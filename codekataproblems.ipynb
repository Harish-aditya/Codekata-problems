{
  "nbformat": 4,
  "nbformat_minor": 0,
  "metadata": {
    "colab": {
      "provenance": [],
      "toc_visible": true,
      "authorship_tag": "ABX9TyM7g2Hn8r3o6IQ3syZ99w6C",
      "include_colab_link": true
    },
    "kernelspec": {
      "name": "python3",
      "display_name": "Python 3"
    },
    "language_info": {
      "name": "python"
    }
  },
  "cells": [
    {
      "cell_type": "markdown",
      "metadata": {
        "id": "view-in-github",
        "colab_type": "text"
      },
      "source": [
        "<a href=\"https://colab.research.google.com/github/Harish-aditya/Codekata-problems/blob/main/codekataproblems.ipynb\" target=\"_parent\"><img src=\"https://colab.research.google.com/assets/colab-badge.svg\" alt=\"Open In Colab\"/></a>"
      ]
    },
    {
      "cell_type": "code",
      "execution_count": null,
      "metadata": {
        "id": "IJdMQL1406oq"
      },
      "outputs": [],
      "source": [
        "import numpy as np\n"
      ]
    },
    {
      "cell_type": "code",
      "source": [
        "x = int(input())\n",
        "y = input()\n"
      ],
      "metadata": {
        "colab": {
          "base_uri": "https://localhost:8080/"
        },
        "id": "A3oNFGVq1APc",
        "outputId": "400a5ae7-2cfd-4510-ce39-267802df6be9"
      },
      "execution_count": null,
      "outputs": [
        {
          "name": "stdout",
          "output_type": "stream",
          "text": [
            "4\n",
            "1 2 3 4\n"
          ]
        }
      ]
    },
    {
      "cell_type": "code",
      "source": [
        "y = y.split(' ')\n",
        "y = [int(i) for i in y]\n"
      ],
      "metadata": {
        "id": "CEh1Im701Je5"
      },
      "execution_count": null,
      "outputs": []
    },
    {
      "cell_type": "code",
      "source": [
        "y1 = np.array(y)"
      ],
      "metadata": {
        "id": "2wRnCW0h1YcL"
      },
      "execution_count": null,
      "outputs": []
    },
    {
      "cell_type": "code",
      "source": [
        "y1"
      ],
      "metadata": {
        "colab": {
          "base_uri": "https://localhost:8080/"
        },
        "id": "miAuh7E310EL",
        "outputId": "34d5d09a-0ba9-4141-e66e-85bf17615a9e"
      },
      "execution_count": null,
      "outputs": [
        {
          "output_type": "execute_result",
          "data": {
            "text/plain": [
              "array([1, 2, 3, 4])"
            ]
          },
          "metadata": {},
          "execution_count": 26
        }
      ]
    },
    {
      "cell_type": "code",
      "source": [
        "y2 = np.sort(y1)"
      ],
      "metadata": {
        "id": "2wjOaABF1eJw"
      },
      "execution_count": null,
      "outputs": []
    },
    {
      "cell_type": "code",
      "source": [
        "np.array_equiv(y1,y2)"
      ],
      "metadata": {
        "colab": {
          "base_uri": "https://localhost:8080/"
        },
        "id": "83Nx1IBt16Tb",
        "outputId": "7b279aad-8cf5-4aae-a21c-a0c3943b32c2"
      },
      "execution_count": null,
      "outputs": [
        {
          "output_type": "execute_result",
          "data": {
            "text/plain": [
              "True"
            ]
          },
          "metadata": {},
          "execution_count": 28
        }
      ]
    },
    {
      "cell_type": "code",
      "source": [
        "op = y1 == y2"
      ],
      "metadata": {
        "id": "juwD5g0y2mCy"
      },
      "execution_count": null,
      "outputs": []
    },
    {
      "cell_type": "code",
      "source": [
        "np.count_nonzero(op)"
      ],
      "metadata": {
        "colab": {
          "base_uri": "https://localhost:8080/"
        },
        "id": "v95SJscs2071",
        "outputId": "bec833e1-1f1f-4899-c301-767666d049e4"
      },
      "execution_count": null,
      "outputs": [
        {
          "output_type": "execute_result",
          "data": {
            "text/plain": [
              "4"
            ]
          },
          "metadata": {},
          "execution_count": 31
        }
      ]
    },
    {
      "cell_type": "code",
      "source": [
        "# Python program to\n",
        "# compute sum of digits in\n",
        "# number.\n",
        "\n",
        "# Function to get sum of digits\n",
        "def getSum(n):\n",
        "\tsum = 0\n",
        "\tfor digit in str(n):\n",
        "   return sum\n",
        "\t return sum\n",
        "\n",
        "n = 12345\n",
        "print(getSum(n))\n"
      ],
      "metadata": {
        "colab": {
          "base_uri": "https://localhost:8080/",
          "height": 135
        },
        "id": "XYpzs3LA453F",
        "outputId": "3b992776-e87d-4521-9bb4-9ec55b168ec1"
      },
      "execution_count": null,
      "outputs": [
        {
          "output_type": "error",
          "ename": "IndentationError",
          "evalue": "ignored",
          "traceback": [
            "\u001b[0;36m  File \u001b[0;32m\"<tokenize>\"\u001b[0;36m, line \u001b[0;32m10\u001b[0m\n\u001b[0;31m    return sum\u001b[0m\n\u001b[0m    ^\u001b[0m\n\u001b[0;31mIndentationError\u001b[0m\u001b[0;31m:\u001b[0m unindent does not match any outer indentation level\n"
          ]
        }
      ]
    },
    {
      "cell_type": "code",
      "source": [],
      "metadata": {
        "id": "8eo4W9rr45dR"
      },
      "execution_count": null,
      "outputs": []
    },
    {
      "cell_type": "code",
      "source": [
        "n = input()\n",
        "n = [int(i) for i in n.split(' ')]\n",
        "sum = 1\n",
        "for i in range(0,len(n)):\n",
        "    sum &= n[i] \n",
        "print(sum)"
      ],
      "metadata": {
        "colab": {
          "base_uri": "https://localhost:8080/"
        },
        "id": "U2R-ykJa40OP",
        "outputId": "6f608c94-0efd-41ce-baf8-47ec0a34f2fa"
      },
      "execution_count": null,
      "outputs": [
        {
          "output_type": "stream",
          "name": "stdout",
          "text": [
            "1 1 1 1 1\n",
            "1\n"
          ]
        }
      ]
    },
    {
      "cell_type": "code",
      "source": [
        "n = input()\n",
        "n = [int(i) for i in n.split(' ')]\n",
        "sum = 0\n",
        "for i in range(0,len(n)):\n",
        "    sum = sum | n[i] \n",
        "print(sum)"
      ],
      "metadata": {
        "colab": {
          "base_uri": "https://localhost:8080/"
        },
        "id": "q-qjQ-sE5rRP",
        "outputId": "f8669787-2adc-420c-83ad-5b7d68fa4015"
      },
      "execution_count": null,
      "outputs": [
        {
          "output_type": "stream",
          "name": "stdout",
          "text": [
            "4 3 2 1\n",
            "7\n"
          ]
        }
      ]
    },
    {
      "cell_type": "markdown",
      "source": [
        "Given 2 numbers N and K followed by N elements,print the number of repetition of K otherwise print '-1' if the element not found.\n",
        "Sample Testcase :\n",
        "INPUT\n",
        "6 2\n",
        "1 2 3 5 7 8\n",
        "OUTPUT\n",
        "0"
      ],
      "metadata": {
        "id": "Lo6SYN1UUyg7"
      }
    },
    {
      "cell_type": "code",
      "source": [
        "n = input()\n",
        "k = input()\n",
        "n = [int(i) for i in n.split(' ')]\n",
        "k = [int(i) for i in k.split(' ')]\n",
        "value = 0\n",
        "for i in k:\n",
        "  if i == n[1]:\n",
        "    value += 1\n",
        "  else:\n",
        "    pass\n",
        "    \n",
        "if value >= 2:\n",
        "  print(value)\n",
        "else:\n",
        "  print(-1)"
      ],
      "metadata": {
        "colab": {
          "base_uri": "https://localhost:8080/"
        },
        "id": "m_7PTrz7Uxzb",
        "outputId": "d4749a1d-0901-4d66-aba8-68e93f0d40d8"
      },
      "execution_count": null,
      "outputs": [
        {
          "output_type": "stream",
          "name": "stdout",
          "text": [
            "6 2\n",
            "1 2 3 4 5 6 2\n",
            "<built-in function sum>\n"
          ]
        }
      ]
    },
    {
      "cell_type": "markdown",
      "source": [
        "Write a code to get a integer n as input and calculate the smallest perfect power of 2 greater than n.\n",
        "\n",
        "Input Description:\n",
        "A single line containing an integer,n.\n",
        "\n",
        "Output Description:\n",
        "Print the smallest perfect power of 2 greater than n.\n",
        "\n",
        "Sample Input :\n",
        "48\n",
        "Sample Output :\n",
        "64"
      ],
      "metadata": {
        "id": "X_CUWicEWtQx"
      }
    },
    {
      "cell_type": "code",
      "source": [
        "n = int(input())\n",
        "for i in range(100):\n",
        "  if 2**i<n:\n",
        "    pass\n",
        "  else:\n",
        "    print(2**i)\n",
        "    break"
      ],
      "metadata": {
        "colab": {
          "base_uri": "https://localhost:8080/"
        },
        "id": "PpOfDyYyWupB",
        "outputId": "c06608c1-4cbf-4b6f-d60e-a62aed82d6b4"
      },
      "execution_count": null,
      "outputs": [
        {
          "output_type": "stream",
          "name": "stdout",
          "text": [
            "24\n",
            "32\n"
          ]
        }
      ]
    },
    {
      "cell_type": "code",
      "source": [
        "s = input()\n",
        "s = s.split(\" \")\n",
        "x = []\n",
        "\n",
        "for i in range(len(s)):\n",
        "    if i%2 == 0:\n",
        "        x.append(s[i].upper())\n",
        "    else:\n",
        "        x.append(s[i])\n",
        "print(' '.join(x))"
      ],
      "metadata": {
        "colab": {
          "base_uri": "https://localhost:8080/"
        },
        "id": "ZROPofoUYp2m",
        "outputId": "d943fc80-9a3e-4900-ff62-8009d9638ce3"
      },
      "execution_count": null,
      "outputs": [
        {
          "output_type": "stream",
          "name": "stdout",
          "text": [
            "ab xb xy\n",
            "AB xb XY\n"
          ]
        }
      ]
    },
    {
      "cell_type": "markdown",
      "source": [
        "Given 3 numbers A,B,C print 'yes' if they can form the sides of a scalene triangle else print 'no'.\n",
        "Input Size : A,B,C <= 100000\n",
        "Sample Testcase :\n",
        "INPUT\n",
        "3 4 5\n",
        "OUTPUT\n",
        "yes"
      ],
      "metadata": {
        "id": "t0x1TYANbVyU"
      }
    },
    {
      "cell_type": "code",
      "source": [
        "n = input()\n",
        "n = [int(i) for i in n.split(' ')]\n",
        "if n[0]!=n[1]!=n[2]:\n",
        "  print('yes')\n",
        "else:\n",
        "  print('no')"
      ],
      "metadata": {
        "id": "E2yJ4t0JbWhH"
      },
      "execution_count": null,
      "outputs": []
    },
    {
      "cell_type": "markdown",
      "source": [
        "Given a string 'S' swap the even and odd characters starting from index 1(Assume the index starts from 0).\n",
        "Input Size : |s| <= 10000000(complexity O(n))\n",
        "Sample Testcase :\n",
        "INPUT\n",
        "codekata\n",
        "OUTPUT\n",
        "ocedakat"
      ],
      "metadata": {
        "id": "Q8cdP2iDcS5D"
      }
    },
    {
      "cell_type": "code",
      "source": [
        "n = input()\n",
        "n = [i for i in n]\n",
        "for i in range(len(n)):\n",
        "  if i%2 == 0:\n",
        "    n[i-1] = n[i]\n",
        "  else:\n",
        "    n[i] = n[i+1]\n",
        "print(n)"
      ],
      "metadata": {
        "colab": {
          "base_uri": "https://localhost:8080/"
        },
        "id": "5sbyh_R9cThf",
        "outputId": "517aca10-5cf7-45a5-a81e-83ae720d07e1"
      },
      "execution_count": null,
      "outputs": [
        {
          "output_type": "stream",
          "name": "stdout",
          "text": [
            "print\n",
            "['p', 'i', 'i', 'p', 'p']\n"
          ]
        }
      ]
    }
  ]
}
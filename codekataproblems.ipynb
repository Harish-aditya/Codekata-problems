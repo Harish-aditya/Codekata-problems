{
  "cells": [
    {
      "cell_type": "markdown",
      "metadata": {
        "id": "view-in-github",
        "colab_type": "text"
      },
      "source": [
        "<a href=\"https://colab.research.google.com/github/Harish-aditya/Codekata-problems/blob/main/codekataproblems.ipynb\" target=\"_parent\"><img src=\"https://colab.research.google.com/assets/colab-badge.svg\" alt=\"Open In Colab\"/></a>"
      ]
    },
    {
      "cell_type": "code",
      "execution_count": null,
      "metadata": {
        "id": "IJdMQL1406oq"
      },
      "outputs": [],
      "source": [
        "import numpy as np\n"
      ]
    },
    {
      "cell_type": "code",
      "execution_count": null,
      "metadata": {
        "colab": {
          "base_uri": "https://localhost:8080/"
        },
        "id": "A3oNFGVq1APc",
        "outputId": "400a5ae7-2cfd-4510-ce39-267802df6be9"
      },
      "outputs": [
        {
          "name": "stdout",
          "output_type": "stream",
          "text": [
            "4\n",
            "1 2 3 4\n"
          ]
        }
      ],
      "source": [
        "x = int(input())\n",
        "y = input()\n"
      ]
    },
    {
      "cell_type": "code",
      "execution_count": null,
      "metadata": {
        "id": "CEh1Im701Je5"
      },
      "outputs": [],
      "source": [
        "y = y.split(' ')\n",
        "y = [int(i) for i in y]\n"
      ]
    },
    {
      "cell_type": "code",
      "execution_count": null,
      "metadata": {
        "id": "2wRnCW0h1YcL"
      },
      "outputs": [],
      "source": [
        "y1 = np.array(y)"
      ]
    },
    {
      "cell_type": "code",
      "execution_count": null,
      "metadata": {
        "colab": {
          "base_uri": "https://localhost:8080/"
        },
        "id": "miAuh7E310EL",
        "outputId": "34d5d09a-0ba9-4141-e66e-85bf17615a9e"
      },
      "outputs": [
        {
          "data": {
            "text/plain": [
              "array([1, 2, 3, 4])"
            ]
          },
          "execution_count": 26,
          "metadata": {},
          "output_type": "execute_result"
        }
      ],
      "source": [
        "y1"
      ]
    },
    {
      "cell_type": "code",
      "execution_count": null,
      "metadata": {
        "id": "2wjOaABF1eJw"
      },
      "outputs": [],
      "source": [
        "y2 = np.sort(y1)"
      ]
    },
    {
      "cell_type": "code",
      "execution_count": null,
      "metadata": {
        "colab": {
          "base_uri": "https://localhost:8080/"
        },
        "id": "83Nx1IBt16Tb",
        "outputId": "7b279aad-8cf5-4aae-a21c-a0c3943b32c2"
      },
      "outputs": [
        {
          "data": {
            "text/plain": [
              "True"
            ]
          },
          "execution_count": 28,
          "metadata": {},
          "output_type": "execute_result"
        }
      ],
      "source": [
        "np.array_equiv(y1,y2)"
      ]
    },
    {
      "cell_type": "code",
      "execution_count": null,
      "metadata": {
        "id": "juwD5g0y2mCy"
      },
      "outputs": [],
      "source": [
        "op = y1 == y2"
      ]
    },
    {
      "cell_type": "code",
      "execution_count": null,
      "metadata": {
        "colab": {
          "base_uri": "https://localhost:8080/"
        },
        "id": "v95SJscs2071",
        "outputId": "bec833e1-1f1f-4899-c301-767666d049e4"
      },
      "outputs": [
        {
          "data": {
            "text/plain": [
              "4"
            ]
          },
          "execution_count": 31,
          "metadata": {},
          "output_type": "execute_result"
        }
      ],
      "source": [
        "np.count_nonzero(op)"
      ]
    },
    {
      "cell_type": "code",
      "execution_count": null,
      "metadata": {
        "colab": {
          "base_uri": "https://localhost:8080/",
          "height": 135
        },
        "id": "XYpzs3LA453F",
        "outputId": "3b992776-e87d-4521-9bb4-9ec55b168ec1"
      },
      "outputs": [
        {
          "ename": "IndentationError",
          "evalue": "ignored",
          "output_type": "error",
          "traceback": [
            "\u001b[0;36m  File \u001b[0;32m\"<tokenize>\"\u001b[0;36m, line \u001b[0;32m10\u001b[0m\n\u001b[0;31m    return sum\u001b[0m\n\u001b[0m    ^\u001b[0m\n\u001b[0;31mIndentationError\u001b[0m\u001b[0;31m:\u001b[0m unindent does not match any outer indentation level\n"
          ]
        }
      ],
      "source": [
        "# Python program to\n",
        "# compute sum of digits in\n",
        "# number.\n",
        "\n",
        "# Function to get sum of digits\n",
        "def getSum(n):\n",
        "\tsum = 0\n",
        "\tfor digit in str(n):\n",
        "   return sum\n",
        "\t return sum\n",
        "\n",
        "n = 12345\n",
        "print(getSum(n))\n"
      ]
    },
    {
      "cell_type": "code",
      "execution_count": null,
      "metadata": {
        "id": "8eo4W9rr45dR"
      },
      "outputs": [],
      "source": []
    },
    {
      "cell_type": "code",
      "execution_count": null,
      "metadata": {
        "colab": {
          "base_uri": "https://localhost:8080/"
        },
        "id": "U2R-ykJa40OP",
        "outputId": "6f608c94-0efd-41ce-baf8-47ec0a34f2fa"
      },
      "outputs": [
        {
          "name": "stdout",
          "output_type": "stream",
          "text": [
            "1 1 1 1 1\n",
            "1\n"
          ]
        }
      ],
      "source": [
        "n = input()\n",
        "n = [int(i) for i in n.split(' ')]\n",
        "sum = 1\n",
        "for i in range(0,len(n)):\n",
        "    sum &= n[i] \n",
        "print(sum)"
      ]
    },
    {
      "cell_type": "code",
      "execution_count": null,
      "metadata": {
        "colab": {
          "base_uri": "https://localhost:8080/"
        },
        "id": "q-qjQ-sE5rRP",
        "outputId": "f8669787-2adc-420c-83ad-5b7d68fa4015"
      },
      "outputs": [
        {
          "name": "stdout",
          "output_type": "stream",
          "text": [
            "4 3 2 1\n",
            "7\n"
          ]
        }
      ],
      "source": [
        "n = input()\n",
        "n = [int(i) for i in n.split(' ')]\n",
        "sum = 0\n",
        "for i in range(0,len(n)):\n",
        "    sum = sum | n[i] \n",
        "print(sum)"
      ]
    },
    {
      "cell_type": "markdown",
      "metadata": {
        "id": "Lo6SYN1UUyg7"
      },
      "source": [
        "Given 2 numbers N and K followed by N elements,print the number of repetition of K otherwise print '-1' if the element not found.\n",
        "Sample Testcase :\n",
        "INPUT\n",
        "6 2\n",
        "1 2 3 5 7 8\n",
        "OUTPUT\n",
        "0"
      ]
    },
    {
      "cell_type": "code",
      "execution_count": null,
      "metadata": {
        "colab": {
          "base_uri": "https://localhost:8080/"
        },
        "id": "m_7PTrz7Uxzb",
        "outputId": "d4749a1d-0901-4d66-aba8-68e93f0d40d8"
      },
      "outputs": [
        {
          "name": "stdout",
          "output_type": "stream",
          "text": [
            "6 2\n",
            "1 2 3 4 5 6 2\n",
            "<built-in function sum>\n"
          ]
        }
      ],
      "source": [
        "n = input()\n",
        "k = input()\n",
        "n = [int(i) for i in n.split(' ')]\n",
        "k = [int(i) for i in k.split(' ')]\n",
        "value = 0\n",
        "for i in k:\n",
        "  if i == n[1]:\n",
        "    value += 1\n",
        "  else:\n",
        "    pass\n",
        "    \n",
        "if value >= 2:\n",
        "  print(value)\n",
        "else:\n",
        "  print(-1)"
      ]
    },
    {
      "cell_type": "markdown",
      "metadata": {
        "id": "X_CUWicEWtQx"
      },
      "source": [
        "Write a code to get a integer n as input and calculate the smallest perfect power of 2 greater than n.\n",
        "\n",
        "Input Description:\n",
        "A single line containing an integer,n.\n",
        "\n",
        "Output Description:\n",
        "Print the smallest perfect power of 2 greater than n.\n",
        "\n",
        "Sample Input :\n",
        "48\n",
        "Sample Output :\n",
        "64"
      ]
    },
    {
      "cell_type": "code",
      "execution_count": null,
      "metadata": {
        "colab": {
          "base_uri": "https://localhost:8080/"
        },
        "id": "PpOfDyYyWupB",
        "outputId": "c06608c1-4cbf-4b6f-d60e-a62aed82d6b4"
      },
      "outputs": [
        {
          "name": "stdout",
          "output_type": "stream",
          "text": [
            "24\n",
            "32\n"
          ]
        }
      ],
      "source": [
        "n = int(input())\n",
        "for i in range(100):\n",
        "  if 2**i<n:\n",
        "    pass\n",
        "  else:\n",
        "    print(2**i)\n",
        "    break"
      ]
    },
    {
      "cell_type": "code",
      "execution_count": null,
      "metadata": {
        "colab": {
          "base_uri": "https://localhost:8080/"
        },
        "id": "ZROPofoUYp2m",
        "outputId": "d943fc80-9a3e-4900-ff62-8009d9638ce3"
      },
      "outputs": [
        {
          "name": "stdout",
          "output_type": "stream",
          "text": [
            "ab xb xy\n",
            "AB xb XY\n"
          ]
        }
      ],
      "source": [
        "s = input()\n",
        "s = s.split(\" \")\n",
        "x = []\n",
        "\n",
        "for i in range(len(s)):\n",
        "    if i%2 == 0:\n",
        "        x.append(s[i].upper())\n",
        "    else:\n",
        "        x.append(s[i])\n",
        "print(' '.join(x))"
      ]
    },
    {
      "cell_type": "markdown",
      "metadata": {
        "id": "t0x1TYANbVyU"
      },
      "source": [
        "Given 3 numbers A,B,C print 'yes' if they can form the sides of a scalene triangle else print 'no'.\n",
        "Input Size : A,B,C <= 100000\n",
        "Sample Testcase :\n",
        "INPUT\n",
        "3 4 5\n",
        "OUTPUT\n",
        "yes"
      ]
    },
    {
      "cell_type": "code",
      "execution_count": null,
      "metadata": {
        "id": "E2yJ4t0JbWhH"
      },
      "outputs": [],
      "source": [
        "n = input()\n",
        "n = [int(i) for i in n.split(' ')]\n",
        "if n[0]!=n[1]!=n[2]:\n",
        "  print('yes')\n",
        "else:\n",
        "  print('no')"
      ]
    },
    {
      "cell_type": "markdown",
      "metadata": {
        "id": "Q8cdP2iDcS5D"
      },
      "source": [
        "Given a string 'S' swap the even and odd characters starting from index 1(Assume the index starts from 0).\n",
        "Input Size : |s| <= 10000000(complexity O(n))\n",
        "Sample Testcase :\n",
        "INPUT\n",
        "codekata\n",
        "OUTPUT\n",
        "ocedakat"
      ]
    },
    {
      "cell_type": "code",
      "execution_count": null,
      "metadata": {
        "colab": {
          "base_uri": "https://localhost:8080/"
        },
        "id": "5sbyh_R9cThf",
        "outputId": "517aca10-5cf7-45a5-a81e-83ae720d07e1"
      },
      "outputs": [
        {
          "name": "stdout",
          "output_type": "stream",
          "text": [
            "print\n",
            "['p', 'i', 'i', 'p', 'p']\n"
          ]
        }
      ],
      "source": [
        "n = input()\n",
        "n = [i for i in n]\n",
        "for i in range(len(n)):\n",
        "  if i%2 == 0:\n",
        "    n[i-1] = n[i]\n",
        "  else:\n",
        "    n[i] = n[i+1]\n",
        "print(n)"
      ]
    },
    {
      "cell_type": "markdown",
      "metadata": {
        "id": "1uY0OHAi0KvO"
      },
      "source": [
        "You are given with an circular array .Your task is calculate the difference between two consecutive number. And if difference is greater than ‘k’, print 1 else print 0\n",
        "\n",
        "Input Description:\n",
        "You are given two numbers ‘n’, ’m’. Next line contains n space separated integers.\n",
        "\n",
        "Output Description:\n",
        "Print 1 if the difference is greater than ‘m’.\n",
        "\n",
        "Sample Input :\n",
        "5 15\n",
        "50 65 85 98 35\n",
        "Sample Output :\n",
        "0 1 0 1 0"
      ]
    },
    {
      "cell_type": "code",
      "execution_count": null,
      "metadata": {
        "colab": {
          "base_uri": "https://localhost:8080/"
        },
        "id": "DQH1JfnA0MdX",
        "outputId": "028a5293-10ce-4ec7-aea1-d3d84094da13"
      },
      "outputs": [
        {
          "name": "stdout",
          "output_type": "stream",
          "text": [
            "5 15\n",
            "50 65 85 98 35\n",
            "0 1 0 1 "
          ]
        }
      ],
      "source": [
        "n = input()\n",
        "n = [int(i) for i in n.split(' ')]\n",
        "k = n[1]\n",
        "m = input()\n",
        "m = [int(i) for i in m.split(' ')]\n",
        "op = []\n",
        "\n",
        "for i in range(n[0]-1):\n",
        "    if abs(m[i] - m[i+1]) > k:\n",
        "        op.append('1')\n",
        "    else:\n",
        "        op.append('0')\n",
        "if abs(m[-1] - m[0]) > k:\n",
        "    op.append('1')\n",
        "else:\n",
        "    op.append('0')\n",
        "\n",
        "for i in range(n[0]-1):\n",
        "    print(op[i],end = \" \")"
      ]
    },
    {
      "cell_type": "markdown",
      "metadata": {
        "id": "co8zTQ2ws7SL"
      },
      "source": [
        "you are given with ‘arasu’ series(shown in example).You have to understand it and you will be given a number ‘n’ ,you have to print the series till n numbers.\n",
        "\n",
        "Input Description:\n",
        "You are given a number n;\n",
        "\n",
        "Output Description:\n",
        "Print series till nth number\n",
        "\n",
        "Sample Input :\n",
        "4\n",
        "Sample Output :\n",
        "2 5 10 17"
      ]
    },
    {
      "cell_type": "code",
      "execution_count": null,
      "metadata": {
        "colab": {
          "base_uri": "https://localhost:8080/"
        },
        "id": "VeS7Dqets9LO",
        "outputId": "da089a59-1941-4206-b224-f1fc1a39bd6e"
      },
      "outputs": [
        {
          "name": "stdout",
          "output_type": "stream",
          "text": [
            "4\n",
            "2 5 10 17\n"
          ]
        }
      ],
      "source": [
        "x = int(input())\n",
        "op = [2]\n",
        "for i in range(1,x+1):\n",
        "  y = op[-1]+(2*i+1)\n",
        "  op.append(y)\n",
        "for i in range(0,len(op)-2):\n",
        "  print(op[i],end = ' ')\n",
        "print(op[-2])\n"
      ]
    },
    {
      "cell_type": "markdown",
      "metadata": {
        "id": "TJ_TDbXZuYzW"
      },
      "source": [
        "Given a number N, check whether it is prime or not. Print 'yes' if it is prime else print 'no'.\n",
        "Sample Testcase :\n",
        "INPUT\n",
        "123\n",
        "OUTPUT\n",
        "no"
      ]
    },
    {
      "cell_type": "code",
      "execution_count": null,
      "metadata": {
        "colab": {
          "base_uri": "https://localhost:8080/"
        },
        "id": "_4md9Bdyua5D",
        "outputId": "1ba82f46-1dd0-474d-d329-6c47bcfac382"
      },
      "outputs": [
        {
          "name": "stdout",
          "output_type": "stream",
          "text": [
            "123\n",
            "no\n"
          ]
        }
      ],
      "source": [
        "num = int(input())\n",
        "\n",
        "if num > 1:\n",
        "   # check for factors\n",
        "   for i in range(2,num):\n",
        "       if (num % i) == 0:\n",
        "           print(\"no\")\n",
        "           break\n",
        "   else:\n",
        "       print(\"yes\")\n",
        "       \n",
        "# if input number is less than\n",
        "# or equal to 1, it is not prime\n",
        "else:\n",
        "   print(\"no\")"
      ]
    },
    {
      "cell_type": "markdown",
      "metadata": {
        "id": "dv7KCuT6xQzw"
      },
      "source": [
        "In a world cup tournament,no of goals scored by each team is given to you. Your task is to calculate net goal rate of each team.\n",
        "\n",
        "Net goal rate of team is calculated\n",
        "\n",
        " \n",
        "\n",
        "No of goals(team)- sum of(no of goals by last 3 teams)\n",
        "\n",
        "Input Description:\n",
        "You are given a number ‘n’.Next line contains n space separated numbers.\n",
        "\n",
        "Output Description:\n",
        "Print the net goal rate of each team\n",
        "\n",
        "Sample Input :\n",
        "5\n",
        "95 85 75 12 11\n",
        "Sample Output :\n",
        "-3 -13 -23 -86 -87"
      ]
    },
    {
      "cell_type": "code",
      "execution_count": null,
      "metadata": {
        "colab": {
          "base_uri": "https://localhost:8080/"
        },
        "id": "PkQNrROzxRw6",
        "outputId": "78840281-3a56-40a9-e92c-417dbb223e24"
      },
      "outputs": [
        {
          "name": "stdout",
          "output_type": "stream",
          "text": [
            "5\n",
            "95 85 75 12 11\n",
            "[95, 85, 75, 12, 11, 95]\n",
            "[85, 75, 12, 11, 95, 75]\n",
            "[75, 12, 11, 95, 75, 11]\n",
            "[12, 11, 95, 75, 11, 75]\n",
            "[11, 95, 75, 11, 75, 75]\n",
            "[-8, -52, 95, 95, 11]\n"
          ]
        }
      ],
      "source": [
        "n = int(input())\n",
        "goals = input()\n",
        "goals = [int(i) for i in goals.split(' ')]\n",
        "op = []\n",
        "for i in goals:\n",
        "  y = sum(goals[-3:-1])-i\n",
        "  goals.append(i)\n",
        "  print(goals)\n",
        "  goals.pop(0)\n",
        "  op.append(y)\n",
        "print(op)"
      ]
    },
    {
      "cell_type": "markdown",
      "metadata": {
        "id": "QyZDS3-55K2I"
      },
      "source": [
        "Given a number N, print its factors.\n",
        "Input Size : n<=1000\n",
        "Sample Testcase :\n",
        "INPUT\n",
        "6\n",
        "OUTPUT\n",
        "1 2 3 6\n"
      ]
    },
    {
      "cell_type": "code",
      "execution_count": null,
      "metadata": {
        "colab": {
          "base_uri": "https://localhost:8080/"
        },
        "id": "GZfo6b8Hy27y",
        "outputId": "7bd828fe-916c-4fad-8055-513e53b21c43"
      },
      "outputs": [
        {
          "name": "stdout",
          "output_type": "stream",
          "text": [
            "6\n",
            "1 2 3 6\n"
          ]
        }
      ],
      "source": [
        "num = int(input())\n",
        "op = []\n",
        "for i in range(1,num+1):\n",
        "  if num % i == 0:\n",
        "    op.append(str(i))\n",
        "\n",
        "print(' '.join(op))"
      ]
    },
    {
      "cell_type": "markdown",
      "metadata": {
        "id": "HkOrhgZF6mZa"
      },
      "source": [
        "Given a number N, print the product of the digits.\n",
        "Input Size : N <= 100000000000\n",
        "Sample Testcase :\n",
        "INPUT\n",
        "2143\n",
        "OUTPUT\n",
        "24"
      ]
    },
    {
      "cell_type": "code",
      "execution_count": null,
      "metadata": {
        "colab": {
          "base_uri": "https://localhost:8080/"
        },
        "id": "eUKDNUcD6nEV",
        "outputId": "1ed7fe1d-9a03-4fc7-dd26-b4614e00e4c7"
      },
      "outputs": [
        {
          "name": "stdout",
          "output_type": "stream",
          "text": [
            "2134\n",
            "24\n"
          ]
        }
      ],
      "source": [
        "n = input()\n",
        "n = [int(i) for i in n]\n",
        "prod = 1\n",
        "for i in n:\n",
        "  prod *= i\n",
        "print(prod)"
      ]
    },
    {
      "cell_type": "markdown",
      "metadata": {
        "id": "AMdAtpgk7hQk"
      },
      "source": [
        "Given a number N followed by N elements which can be arranged in ascending order with maximum one element update. Print the index of the element which has to be changed else print '-1' if the updation not neccassary or if the given input needs more than one update to form ascending order.\n",
        "Sample Testcase :\n",
        "INPUT\n",
        "7\n",
        "1 2 4 3 5 6 8\n",
        "OUTPUT\n",
        "2\n",
        "Sample Testcase :\n",
        "INPUT\n",
        "5\n",
        "1 10 3 14 5\n",
        "OUTPUT\n",
        "-1"
      ]
    },
    {
      "cell_type": "code",
      "execution_count": null,
      "metadata": {
        "colab": {
          "base_uri": "https://localhost:8080/"
        },
        "id": "6RC5MGab7h2b",
        "outputId": "719142e7-340c-46b7-bdd2-a0e5c05c76da"
      },
      "outputs": [
        {
          "name": "stdout",
          "output_type": "stream",
          "text": [
            "7\n",
            "1 2 4 3 5 6 8\n",
            "1 2 4 3 5 6 8\n"
          ]
        }
      ],
      "source": [
        "n = int(input())\n",
        "N = input()\n",
        "print(N)"
      ]
    },
    {
      "cell_type": "code",
      "execution_count": null,
      "metadata": {
        "colab": {
          "base_uri": "https://localhost:8080/"
        },
        "id": "d86eWm6w9-t9",
        "outputId": "07b932d2-1312-447a-ce06-c2d63a8bfaea"
      },
      "outputs": [
        {
          "name": "stdout",
          "output_type": "stream",
          "text": [
            "{{{}}}\n",
            "1\n"
          ]
        }
      ],
      "source": [
        "n = input()\n",
        "if len(n)%2 == 0:\n",
        "  print(1)\n",
        "else:\n",
        "  print(0)"
      ]
    },
    {
      "cell_type": "markdown",
      "metadata": {
        "id": "MEIEsk-Zdfu9"
      },
      "source": [
        "Given a number N and an array of N integers, find the sum of all the negative numbers in the array.\n",
        "Input Size : N <= 100000\n",
        "Sample Testcase :\n",
        "INPUT\n",
        "2\n",
        "3 0\n",
        "OUTPUT\n",
        "0"
      ]
    },
    {
      "cell_type": "code",
      "execution_count": null,
      "metadata": {
        "colab": {
          "base_uri": "https://localhost:8080/"
        },
        "id": "pEJ3bXvzdgkJ",
        "outputId": "5021515d-d9c0-44c0-8daf-e80f99dd96dc"
      },
      "outputs": [
        {
          "name": "stdout",
          "output_type": "stream",
          "text": [
            "2\n",
            "-3 2\n",
            "-3\n"
          ]
        }
      ],
      "source": [
        "n = int(input())\n",
        "N = input()\n",
        "N = [int(i) for i in N.split(' ')]\n",
        "sum = 0\n",
        "for i in range(n):\n",
        "  if N[i] < 0:\n",
        "    sum += N[i]\n",
        "  else:\n",
        "    pass\n",
        "print(sum)"
      ]
    },
    {
      "cell_type": "markdown",
      "metadata": {
        "id": "H7I_4YufeZ0y"
      },
      "source": [
        "Given 3 numbers A,B,C find the sum of Arithmetic Series with a=A, d=B and n=C\n",
        "Sample Testcase :\n",
        "INPUT\n",
        "1 1 2\n",
        "OUTPUT\n",
        "3"
      ]
    },
    {
      "cell_type": "code",
      "execution_count": null,
      "metadata": {
        "colab": {
          "base_uri": "https://localhost:8080/"
        },
        "id": "GYao7o6rdvqP",
        "outputId": "95951687-170a-48b3-fed5-c375fb4c80bf"
      },
      "outputs": [
        {
          "name": "stdout",
          "output_type": "stream",
          "text": [
            "3 3 7\n",
            "84.0\n"
          ]
        }
      ],
      "source": [
        "N = input()\n",
        "N = [int(i) for i in N.split(' ')]\n",
        "a = N[0]\n",
        "d = N[1]\n",
        "n = N[2]\n",
        "\n",
        "sum = (n/2)*(2*(a)+(n-1)*d)\n",
        "print(int(sum))"
      ]
    },
    {
      "cell_type": "markdown",
      "metadata": {
        "id": "aSoQt8Llg1hH"
      },
      "source": [
        "Given length L and breadth B of a farm, print the area of the farm upto 5 decimal decimals.\n",
        "Sample Testcase :\n",
        "INPUT\n",
        "1.626 2.31\n",
        "OUTPUT\n",
        "3.75606"
      ]
    },
    {
      "cell_type": "code",
      "execution_count": null,
      "metadata": {
        "colab": {
          "base_uri": "https://localhost:8080/"
        },
        "id": "fRj-Vldpfa6o",
        "outputId": "cf4e4978-1457-4a86-b33d-1f5aacc9a8bc"
      },
      "outputs": [
        {
          "name": "stdout",
          "output_type": "stream",
          "text": [
            "2.5432 6.7654\n",
            "17.20577\n"
          ]
        }
      ],
      "source": [
        "n = input()\n",
        "n = [float(i) for i in n.split(' ')]\n",
        "a = n[0]*n[1]\n",
        "print(\"{:.5f}\".format(a))"
      ]
    },
    {
      "cell_type": "markdown",
      "metadata": {
        "id": "p4Ldq70li4xt"
      },
      "source": [
        "Write a program to calculate the total surface area and volume of cuboid. Input contains three space separated positive integers L, B, H denoting the length, width and height of cuboid respectively.\n",
        "Sample Testcase :\n",
        "INPUT\n",
        "1 2 3\n",
        "OUTPUT\n",
        "22 6"
      ]
    },
    {
      "cell_type": "code",
      "execution_count": null,
      "metadata": {
        "colab": {
          "base_uri": "https://localhost:8080/"
        },
        "id": "ZVrOghRmi5Zp",
        "outputId": "1dd16dfe-ff00-4ddd-9819-1057b1a2f6c4"
      },
      "outputs": [
        {
          "name": "stdout",
          "output_type": "stream",
          "text": [
            "1 2 3\n",
            "22 6\n"
          ]
        }
      ],
      "source": [
        "n = input()\n",
        "n = [int(i) for i in n.split(' ')]\n",
        "a = n[0]\n",
        "b = n[1]\n",
        "c = n[2]\n",
        "TSA = 2*(a*b)+2*(b*c)+2*(a*c)\n",
        "vol = a*b*c\n",
        "print(TSA,end = ' ')\n",
        "print(vol)"
      ]
    },
    {
      "cell_type": "markdown",
      "source": [
        "Given a string, print the least repeated characters in the string.If there are more than one character repeated preserve the order as in the input.\n",
        "Input Size : 1 <= N <= 100000\n",
        "Sample Testcase :\n",
        "INPUT\n",
        "codeKata challenge\n",
        "OUTPUT\n",
        "odKthng"
      ],
      "metadata": {
        "id": "hEc4uXlLuxpE"
      }
    },
    {
      "cell_type": "code",
      "source": [
        "s = input()\n",
        "s = [i for i in s]\n",
        "if \" \" in s:\n",
        "  s.remove(\" \")\n",
        "else:\n",
        "  pass\n",
        "for i in s:\n",
        "  if s.count(i) == 1:\n",
        "    print(i,end=\"\")\n",
        "  else:\n",
        "    pass\n"
      ],
      "metadata": {
        "colab": {
          "base_uri": "https://localhost:8080/"
        },
        "id": "b4hmjewTuyV2",
        "outputId": "3fce1c7c-ffd8-4b2f-a53b-0c642f60fc39"
      },
      "execution_count": 9,
      "outputs": [
        {
          "output_type": "stream",
          "name": "stdout",
          "text": [
            "gggguvi\n",
            "uvi"
          ]
        }
      ]
    },
    {
      "cell_type": "markdown",
      "source": [
        "Given a string print reverse all words except the first and last words.\n",
        "Sample Testcase :\n",
        "INPUT\n",
        "Hi how are you\n",
        "OUTPUT\n",
        "Hi woh era you"
      ],
      "metadata": {
        "id": "anfXqyklxHmC"
      }
    },
    {
      "cell_type": "code",
      "source": [
        "s = input()\n",
        "s = [i for i in s.split(' ')]\n",
        "for i in range(len(s)):\n",
        "  if i == 0 or i == len(s)-1:\n",
        "    pass\n",
        "  else:\n",
        "    s[i] = s[i][::-1]\n",
        "print(\" \".join(s))"
      ],
      "metadata": {
        "colab": {
          "base_uri": "https://localhost:8080/"
        },
        "id": "MtRENp4UxIjl",
        "outputId": "4e99e91a-63fd-4220-ef78-a079b955428f"
      },
      "execution_count": 13,
      "outputs": [
        {
          "output_type": "stream",
          "name": "stdout",
          "text": [
            "hi how are you\n",
            "hi woh era you\n"
          ]
        }
      ]
    },
    {
      "cell_type": "markdown",
      "source": [
        "You are given with string of words,we have to arrange them in reverse saturated order.\n",
        "\n",
        "Input Description:\n",
        "You are given a string ‘s’.\n",
        "\n",
        "Output Description:\n",
        "Print the reverse saturated order\n",
        "\n",
        "Sample Input :\n",
        "I am kohli fan\n",
        "Sample Output :\n",
        "I ma ilhok naf"
      ],
      "metadata": {
        "id": "HqP9V3sI0dGc"
      }
    },
    {
      "cell_type": "code",
      "source": [
        "s = input()\n",
        "s = [i for i in s.split(' ')]\n",
        "for i in range(len(s)):\n",
        "    s[i] = s[i][::-1]\n",
        "print(\" \".join(s))"
      ],
      "metadata": {
        "id": "EOC_EQ5s0d5x"
      },
      "execution_count": null,
      "outputs": []
    },
    {
      "cell_type": "markdown",
      "source": [
        "Given a sentence interchange the between the word 'and'.\n",
        "Input Size : |S| <= 1000000\n",
        "Sample Testcase :\n",
        "INPUT\n",
        "jack and jill went up and down to get water\n",
        "OUTPUT\n",
        "jill and jack went down and up to get water"
      ],
      "metadata": {
        "id": "c2ZXkLNS1p6U"
      }
    },
    {
      "cell_type": "code",
      "source": [
        "s = input()\n",
        "s = [i for i in s.split(' ')]\n",
        "for i in range(len(s)):\n",
        "  if s[i] == 'and':\n",
        "    x = s[i-1]\n",
        "    y = s[i+1]\n",
        "    s[i+1] = x\n",
        "    s[i-1] = y\n",
        "  else:\n",
        "    pass\n",
        "print(\" \".join(s))"
      ],
      "metadata": {
        "colab": {
          "base_uri": "https://localhost:8080/"
        },
        "id": "Ajtomndl1qkq",
        "outputId": "c500f0f5-badd-4036-837f-203967814ea5"
      },
      "execution_count": 16,
      "outputs": [
        {
          "output_type": "stream",
          "name": "stdout",
          "text": [
            "jill and jack went down and up\n",
            "jack and jill went up and down\n"
          ]
        }
      ]
    }
  ],
  "metadata": {
    "colab": {
      "provenance": [],
      "authorship_tag": "ABX9TyNn5dcYroRozuD9ReyDHVgK",
      "include_colab_link": true
    },
    "kernelspec": {
      "display_name": "Python 3",
      "name": "python3"
    },
    "language_info": {
      "name": "python"
    }
  },
  "nbformat": 4,
  "nbformat_minor": 0
}
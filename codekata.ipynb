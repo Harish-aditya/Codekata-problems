{
  "cells": [
    {
      "cell_type": "markdown",
      "metadata": {
        "id": "sOKuMf9nqPWJ"
      },
      "source": [
        "## string = 4,5,6,8,9,10,14,15,17,19,22,24,25,26,27,28,29,30,31,32,38,40,41,42,43,44,45,46,47,48,56,57,58,60,62,63,65,66,67,69,70,71,72,74\n",
        "\n",
        "\n",
        "## numbers = 2,3,4,5,6,7,8,11,12,15,"
      ]
    },
    {
      "cell_type": "markdown",
      "metadata": {
        "id": "emuZxjtBd_yX"
      },
      "source": [
        "You are given with an circular array .Your task is calculate the difference between two consecutive number. And if difference is greater than ‘k’, print 1 else print 0\n",
        "\n",
        "Input Description:\n",
        "You are given two numbers ‘n’, ’m’. Next line contains n space separated integers.\n",
        "\n",
        "Output Description:\n",
        "Print 1 if the difference is greater than ‘m’.\n",
        "\n",
        "Sample Input :\n",
        "5 15\n",
        "50 65 85 98 35\n",
        "Sample Output :\n",
        "0 1 0 1 0"
      ]
    },
    {
      "cell_type": "code",
      "execution_count": null,
      "metadata": {
        "id": "yu8fDUxQd_yh"
      },
      "outputs": [],
      "source": [
        "import numpy as np"
      ]
    },
    {
      "cell_type": "code",
      "execution_count": null,
      "metadata": {
        "id": "jm_aMMCQd_yk"
      },
      "outputs": [],
      "source": [
        "x = input()\n",
        "y = input()\n",
        "x = [int(i) for i in x.split(' ')]\n",
        "y = [int(i) for i in y.split(' ')]"
      ]
    },
    {
      "cell_type": "code",
      "execution_count": null,
      "metadata": {
        "id": "ynUZLiBbd_ym",
        "outputId": "6d2a9112-d0ce-44ad-9096-bdfe1134c165"
      },
      "outputs": [
        {
          "data": {
            "text/plain": [
              "2"
            ]
          },
          "execution_count": 24,
          "metadata": {},
          "output_type": "execute_result"
        }
      ],
      "source": [
        "len(x)"
      ]
    },
    {
      "cell_type": "code",
      "execution_count": null,
      "metadata": {
        "id": "ScOMC_-kd_yq"
      },
      "outputs": [],
      "source": [
        "def array_dif(a,b):\n",
        "    Total_numbers = a[0]\n",
        "    if Total_numbers != len(y):\n",
        "        print('Enter the total number:')\n",
        "    else: \n",
        "        pass\n",
        "    difference = a[1]\n",
        "    y_array = b\n",
        "    op_array = []\n",
        "    for i in range(len(y_array)):\n",
        "        if y_array[i+1]-y_array[i] == difference:\n",
        "            op_array = op_array.append(1)\n",
        "        else:\n",
        "            op_array = op_array.append(0)\n",
        "    return op_array\n",
        "\n"
      ]
    },
    {
      "cell_type": "code",
      "execution_count": null,
      "metadata": {
        "id": "v-Nfj2kDd_ys",
        "outputId": "3417bf39-7099-42a8-c01a-7e03a7ad7d1b"
      },
      "outputs": [
        {
          "ename": "IndexError",
          "evalue": "list index out of range",
          "output_type": "error",
          "traceback": [
            "\u001b[1;31m---------------------------------------------------------------------------\u001b[0m",
            "\u001b[1;31mIndexError\u001b[0m                                Traceback (most recent call last)",
            "\u001b[1;32mg:\\Codekata\\codekata.ipynb Cell 5\u001b[0m in \u001b[0;36m<cell line: 1>\u001b[1;34m()\u001b[0m\n\u001b[1;32m----> <a href='vscode-notebook-cell:/g%3A/Codekata/codekata.ipynb#W5sZmlsZQ%3D%3D?line=0'>1</a>\u001b[0m array_dif(x,y)\n",
            "\u001b[1;32mg:\\Codekata\\codekata.ipynb Cell 5\u001b[0m in \u001b[0;36marray_dif\u001b[1;34m(a, b)\u001b[0m\n\u001b[0;32m      <a href='vscode-notebook-cell:/g%3A/Codekata/codekata.ipynb#W5sZmlsZQ%3D%3D?line=8'>9</a>\u001b[0m op_array \u001b[39m=\u001b[39m []\n\u001b[0;32m     <a href='vscode-notebook-cell:/g%3A/Codekata/codekata.ipynb#W5sZmlsZQ%3D%3D?line=9'>10</a>\u001b[0m \u001b[39mfor\u001b[39;00m i \u001b[39min\u001b[39;00m \u001b[39mrange\u001b[39m(\u001b[39mlen\u001b[39m(y_array)):\n\u001b[1;32m---> <a href='vscode-notebook-cell:/g%3A/Codekata/codekata.ipynb#W5sZmlsZQ%3D%3D?line=10'>11</a>\u001b[0m     \u001b[39mif\u001b[39;00m y_array[i\u001b[39m+\u001b[39;49m\u001b[39m1\u001b[39;49m]\u001b[39m-\u001b[39my_array[i] \u001b[39m==\u001b[39m difference:\n\u001b[0;32m     <a href='vscode-notebook-cell:/g%3A/Codekata/codekata.ipynb#W5sZmlsZQ%3D%3D?line=11'>12</a>\u001b[0m         op_array \u001b[39m=\u001b[39m op_array\u001b[39m.\u001b[39mappend(\u001b[39m1\u001b[39m)\n\u001b[0;32m     <a href='vscode-notebook-cell:/g%3A/Codekata/codekata.ipynb#W5sZmlsZQ%3D%3D?line=12'>13</a>\u001b[0m     \u001b[39melse\u001b[39;00m:\n",
            "\u001b[1;31mIndexError\u001b[0m: list index out of range"
          ]
        }
      ],
      "source": [
        "array_dif(x,y)"
      ]
    },
    {
      "cell_type": "code",
      "execution_count": null,
      "metadata": {
        "id": "v8VpJOoxd_yu",
        "outputId": "77c5cc2e-13fd-4e0d-9970-3ea19372dbb2"
      },
      "outputs": [
        {
          "ename": "TypeError",
          "evalue": "'builtin_function_or_method' object is not subscriptable",
          "output_type": "error",
          "traceback": [
            "\u001b[1;31m---------------------------------------------------------------------------\u001b[0m",
            "\u001b[1;31mTypeError\u001b[0m                                 Traceback (most recent call last)",
            "\u001b[1;32mg:\\Codekata\\codekata.ipynb Cell 5\u001b[0m in \u001b[0;36m<cell line: 1>\u001b[1;34m()\u001b[0m\n\u001b[1;32m----> <a href='vscode-notebook-cell:/g%3A/Codekata/codekata.ipynb#W4sZmlsZQ%3D%3D?line=0'>1</a>\u001b[0m array_dif(x,y)\n",
            "\u001b[1;32mg:\\Codekata\\codekata.ipynb Cell 5\u001b[0m in \u001b[0;36marray_dif\u001b[1;34m(a, b)\u001b[0m\n\u001b[0;32m     <a href='vscode-notebook-cell:/g%3A/Codekata/codekata.ipynb#W4sZmlsZQ%3D%3D?line=9'>10</a>\u001b[0m \u001b[39mfor\u001b[39;00m i \u001b[39min\u001b[39;00m \u001b[39mrange\u001b[39m(\u001b[39mlen\u001b[39m(y_array)):\n\u001b[0;32m     <a href='vscode-notebook-cell:/g%3A/Codekata/codekata.ipynb#W4sZmlsZQ%3D%3D?line=10'>11</a>\u001b[0m     \u001b[39mif\u001b[39;00m y_array[i\u001b[39m+\u001b[39m\u001b[39m1\u001b[39m]\u001b[39m-\u001b[39my_array[i] \u001b[39m==\u001b[39m difference:\n\u001b[1;32m---> <a href='vscode-notebook-cell:/g%3A/Codekata/codekata.ipynb#W4sZmlsZQ%3D%3D?line=11'>12</a>\u001b[0m         op_array\u001b[39m.\u001b[39;49mappend[\u001b[39m1\u001b[39;49m]\n\u001b[0;32m     <a href='vscode-notebook-cell:/g%3A/Codekata/codekata.ipynb#W4sZmlsZQ%3D%3D?line=12'>13</a>\u001b[0m     \u001b[39melse\u001b[39;00m:\n\u001b[0;32m     <a href='vscode-notebook-cell:/g%3A/Codekata/codekata.ipynb#W4sZmlsZQ%3D%3D?line=13'>14</a>\u001b[0m         op_array\u001b[39m.\u001b[39mappend[\u001b[39m0\u001b[39m]\n",
            "\u001b[1;31mTypeError\u001b[0m: 'builtin_function_or_method' object is not subscriptable"
          ]
        }
      ],
      "source": [
        "Total_numbers = x[0]\n",
        "if Total_numbers != len(y):\n",
        "    print('Enter the total number:')\n",
        "else: \n",
        "    pass\n",
        "difference = x[1]\n",
        "y_array = np.array(y)\n",
        "op_array = []\n",
        "for i in range(len(y_array)):\n",
        "    if y_array[i+1]-y_array[i] == difference:\n",
        "        op_array.append[1]\n",
        "    else:\n",
        "        op_array.append[0]"
      ]
    },
    {
      "cell_type": "markdown",
      "metadata": {
        "id": "Vj-5_jkYd_yw"
      },
      "source": [
        "Given a number N, print 'yes' if it is composite else print 'no'.\n",
        "Sample Testcase :\n",
        "INPUT\n",
        "123\n",
        "OUTPUT\n",
        "yes"
      ]
    },
    {
      "cell_type": "code",
      "execution_count": null,
      "metadata": {
        "id": "uU1yLuC6d_yx",
        "outputId": "439d42be-4ac1-452b-9148-771887afa3db"
      },
      "outputs": [
        {
          "name": "stdout",
          "output_type": "stream",
          "text": [
            "yes\n"
          ]
        }
      ],
      "source": [
        "num=int(input())\n",
        "count=0\n",
        "for a in range(2,num):\n",
        "    if num%a==0:\n",
        "        count+=1\n",
        "if count>1:\n",
        "    print(\"yes\")\n",
        "else:\n",
        "    print('no')"
      ]
    },
    {
      "cell_type": "markdown",
      "metadata": {
        "id": "Yk950XkXd_yy"
      },
      "source": [
        "Given 2 numbers N and M add both the numbers and check whether the sum is odd or even.\n",
        "Sample Testcase :\n",
        "INPUT\n",
        "9 2\n",
        "OUTPUT\n",
        "odd"
      ]
    },
    {
      "cell_type": "code",
      "execution_count": null,
      "metadata": {
        "id": "Ftbl1lQjd_yz",
        "outputId": "0ea50086-ed43-4fcf-8b7f-756652102a67"
      },
      "outputs": [
        {
          "name": "stdout",
          "output_type": "stream",
          "text": [
            "odd\n"
          ]
        }
      ],
      "source": [
        "x = input()\n",
        "x = [int(i) for i in x.split(' ')]\n",
        "y = x[0]+x[1]\n",
        "if y%2 == 0:\n",
        "    print('even')\n",
        "else:\n",
        "    print('odd')"
      ]
    },
    {
      "cell_type": "markdown",
      "metadata": {
        "id": "Xh0UX_3Nd_y0"
      },
      "source": [
        "Given 3 numbers A,B,C process and print 'yes' if they can form the sides of a triangle otherwise print 'no'.\n",
        "Input Size : A,B,C <= 100000\n",
        "Sample Testcase :\n",
        "INPUT\n",
        "3 4 5\n",
        "OUTPUT\n",
        "yes"
      ]
    },
    {
      "cell_type": "code",
      "execution_count": null,
      "metadata": {
        "id": "fLRCvgf2d_y2",
        "outputId": "1579a13a-7c5b-470f-f9d5-430adee1ce05"
      },
      "outputs": [
        {
          "name": "stdout",
          "output_type": "stream",
          "text": [
            "yes\n"
          ]
        }
      ],
      "source": [
        "x = input()\n",
        "x = [int(i) for i in x.split(' ')]\n",
        "s1 = x[0]\n",
        "s2 = x[1]\n",
        "s3 = x[2]\n",
        "if s1+s2 > s3 and s2+s3 > s1 and s3+s1 >s2:\n",
        "    print('yes') \n",
        "else:\n",
        "    print('no')"
      ]
    },
    {
      "cell_type": "markdown",
      "metadata": {
        "id": "o-wYxia9d_y5"
      },
      "source": [
        "Given an array of N elements switch(swap) the element with the adjacent element and print the output.\n",
        "Sample Testcase :\n",
        "INPUT\n",
        "5\n",
        "3 2 1 2 3\n",
        "OUTPUT\n",
        "2 3 2 1 3"
      ]
    },
    {
      "cell_type": "code",
      "execution_count": null,
      "metadata": {
        "id": "H09jrzyMd_y7"
      },
      "outputs": [],
      "source": []
    },
    {
      "cell_type": "markdown",
      "metadata": {
        "id": "7x4pP8uid_y9"
      },
      "source": [
        "Given 3 numbers N , L and R. Print 'yes' if N is between L and R else print 'no'.\n",
        "Sample Testcase :\n",
        "INPUT\n",
        "3\n",
        "2 6\n",
        "OUTPUT\n",
        "yes"
      ]
    },
    {
      "cell_type": "code",
      "execution_count": null,
      "metadata": {
        "id": "g9C7e78sd_y-",
        "outputId": "40054469-9944-4b2f-b826-fa842a6df8f3"
      },
      "outputs": [
        {
          "name": "stdout",
          "output_type": "stream",
          "text": [
            "yes\n"
          ]
        }
      ],
      "source": [
        "x = int(input())\n",
        "y = input()\n",
        "y = [int(i) for i in y.split(' ')]\n",
        "L,R = y[0],y[1]\n",
        "if L< x < R:\n",
        "    print('yes')\n",
        "else:\n",
        "    print('no')"
      ]
    },
    {
      "cell_type": "markdown",
      "metadata": {
        "id": "l_fVxxrdd_zA"
      },
      "source": [
        "Given 3 numbers A,B,C print 'yes' if they can form the sides of a right angled triangle,otherwise 'no'.\n",
        "Input Size : A,B,C <= 100000\n",
        "Sample Testcase :\n",
        "INPUT\n",
        "3 4 5\n",
        "OUTPUT\n",
        "yes"
      ]
    },
    {
      "cell_type": "code",
      "execution_count": null,
      "metadata": {
        "id": "IbrQ6QkUd_zB",
        "outputId": "3a7e04ef-53d5-4d8a-8cca-daf56903c05d"
      },
      "outputs": [
        {
          "name": "stdout",
          "output_type": "stream",
          "text": [
            "yes\n"
          ]
        }
      ],
      "source": [
        "x = input()\n",
        "x = [int(i) for i in x.split(' ')]\n",
        "s1 = min(x)\n",
        "s3 = max(x)\n",
        "for i in x:\n",
        "    if i != s1 and i!= s3:\n",
        "        s2 = i\n",
        "    else:\n",
        "        pass\n",
        "# s2 = x.pop()\n",
        "if s1**2+s2**2==s3**2:\n",
        "    print('yes') \n",
        "else:\n",
        "    print('no')"
      ]
    },
    {
      "cell_type": "markdown",
      "metadata": {
        "id": "aurWa3-od_zC"
      },
      "source": [
        "Kabali is a brave warrior who with his group of young ninjas moves from one place to another to fight against his opponents. Before Fighting he just calculates one thing, the difference between his ninja number and the opponent's ninja number. From this difference he decides whether to fight or not. Kabali's ninja number is never greater than his opponent.\n",
        "Input\n",
        "The input contains two numbers in every line. These two numbers in each line denotes the number ninjas in Kabali's clan and his opponent's clan . print the absolute difference of number of ninjas between Kabali's clan and his opponent's clan. Each output should be in seperate line.\n",
        "Sample Testcase :\n",
        "INPUT\n",
        "100 200\n",
        "OUTPUT\n",
        "100"
      ]
    },
    {
      "cell_type": "code",
      "execution_count": null,
      "metadata": {
        "id": "RhkF8hNRd_zE",
        "outputId": "ffa08055-dbe1-45aa-e0d9-451324780a6f"
      },
      "outputs": [
        {
          "name": "stdout",
          "output_type": "stream",
          "text": [
            "100\n"
          ]
        }
      ],
      "source": [
        "n = input()\n",
        "n = [int(i) for i in n.split(' ')]\n",
        "\n",
        "print(abs(n[0] - n[1]))"
      ]
    },
    {
      "cell_type": "markdown",
      "metadata": {
        "id": "ci8qFGRPd_zF"
      },
      "source": [
        "Given 2 numbers N,M find the GCD of N and M.If it cannot be found for given number(s) then print -1\n",
        "Sample Testcase :\n",
        "INPUT\n",
        "10 5\n",
        "OUTPUT\n",
        "5"
      ]
    },
    {
      "cell_type": "code",
      "execution_count": null,
      "metadata": {
        "id": "xxFJLJ0nd_zG",
        "outputId": "0d4a47fc-8d8f-4612-8b44-a12936739840"
      },
      "outputs": [
        {
          "name": "stdout",
          "output_type": "stream",
          "text": [
            "1\n"
          ]
        }
      ],
      "source": [
        "n = input()\n",
        "n = [int(i) for i in n.split(' ')]\n",
        "s1 = min(n)\n",
        "s2 = max(n)\n",
        "import math\n",
        "print(math.gcd(s1, s2))"
      ]
    },
    {
      "cell_type": "code",
      "execution_count": null,
      "metadata": {
        "id": "kI3kOmrKd_zH",
        "outputId": "415596d1-8b70-4a43-d124-0ae2d28699d9"
      },
      "outputs": [
        {
          "name": "stdout",
          "output_type": "stream",
          "text": [
            "Text : ATTACKATONCE\n",
            "Shift : 4\n",
            "Cipher: EXXEGOEXSRGI\n"
          ]
        }
      ],
      "source": [
        "#A python program to illustrate Caesar Cipher Technique\n",
        "def encrypt(text,s):\n",
        "\tresult = \"\"\n",
        "\n",
        "\t# traverse text\n",
        "\tfor i in range(len(text)):\n",
        "\t\tchar = text[i]\n",
        "\n",
        "\t\t# Encrypt uppercase characters\n",
        "\t\tif (char.isupper()):\n",
        "\t\t\tresult += chr((ord(char) + s-65) % 26 + 65)\n",
        "\n",
        "\t\t# Encrypt lowercase characters\n",
        "\t\telse:\n",
        "\t\t\tresult += chr((ord(char) + s - 97) % 26 + 97)\n",
        "\n",
        "\treturn result\n",
        "\n",
        "#check the above function\n",
        "text = \"ATTACKATONCE\"\n",
        "s = 4\n",
        "print (\"Text : \" + text)\n",
        "print (\"Shift : \" + str(s))\n",
        "print (\"Cipher: \" + encrypt(text,s))\n"
      ]
    },
    {
      "cell_type": "markdown",
      "metadata": {
        "id": "qaNfqeULd_zI"
      },
      "source": [
        " Jennyfer is fond of strings. She wants to read the character from right to left (reverse the string), so she wants you to design a suitable algorithm which satisfy her desire.\n",
        "\n",
        "Input Description:\n",
        "Enter the string ‘s’\n",
        "\n",
        "Output Description:\n",
        "Print the string from characters right to left.\n",
        "\n",
        "Sample Input :\n",
        "jennyfer\n",
        "Sample Output :\n",
        "Refynnej"
      ]
    },
    {
      "cell_type": "code",
      "execution_count": null,
      "metadata": {
        "id": "VTh1CIC7d_zL",
        "outputId": "8d186fd9-3e69-4925-eb4b-4d0024dd8a28"
      },
      "outputs": [
        {
          "name": "stdout",
          "output_type": "stream",
          "text": [
            "Jnnfr"
          ]
        }
      ],
      "source": [
        "s = input()\n",
        "vowels = ['a','e','i','o','u']\n",
        "s = [i for i in s]\n",
        "# print(s)\n",
        "\n",
        "for i in range(len(s)):\n",
        "    if s[i].lower() in vowels:\n",
        "        pass\n",
        "    else:\n",
        "        print(s[i], end=\"\")"
      ]
    },
    {
      "cell_type": "markdown",
      "metadata": {
        "id": "szLHP_r9d_zM"
      },
      "source": [
        "Write a program to get a string S, Type of conversion (1 - Convert to Lowercase, 2 - Convert to Uppercase) T, and integer P . Convert the case of the letters in the positions which are multiples of P.(1 based indexing).\n",
        "\n",
        "Input Description:\n",
        "Given a string S, Type of conversion T, and integer P\n",
        "\n",
        "Output Description:\n",
        "Convert the case of the letters and print the string\n",
        "\n",
        "Sample Input :\n",
        "ProFiLe\n",
        "1\n",
        "2\n",
        "Sample Output :\n",
        "Profile"
      ]
    },
    {
      "cell_type": "code",
      "execution_count": null,
      "metadata": {
        "id": "dVc4_gx7d_zN",
        "outputId": "e2ea0541-e1f2-4e1f-d17a-4faa887c4fce"
      },
      "outputs": [
        {
          "name": "stdout",
          "output_type": "stream",
          "text": [
            "PROFILE\n",
            "PrOfIlE"
          ]
        }
      ],
      "source": [
        "s = input()\n",
        "s = [i for i in s]\n",
        "t = int(input())\n",
        "p = int(input())\n",
        "\n",
        "for i in range(len(s)):\n",
        "    i = i+1\n",
        "    # print(i)\n",
        "    if i%p == 0 and t == 1:\n",
        "        s[i-1] = s[i-1].lower()\n",
        "    elif i%p == 0 and t == 2:\n",
        "        s[i-1] = s[i-1].upper()\n",
        "    print(s[i-1],end = '')\n",
        "\n"
      ]
    },
    {
      "cell_type": "markdown",
      "metadata": {
        "id": "j5-thQzAd_zP"
      },
      "source": [
        "Joyal was given a sentence. His task is to delete the two words that comes together and print the sentence so that the words in the output sentence have distinct words compared to their adjacent words. If no words are present in the output sentence print -1\n",
        "\n",
        "Input Description:\n",
        "You are given input string 'S'\n",
        "\n",
        "Output Description:\n",
        "Print the all the words that are left in the string 's' so that the words in the output sentence have distinct words compared to their adjacent words. Print -1 if no words are left\n",
        "\n",
        "Sample Input :\n",
        "I am john cena cena john\n",
        "Sample Output :\n",
        "I am"
      ]
    },
    {
      "cell_type": "code",
      "execution_count": null,
      "metadata": {
        "id": "-1nE3vkXd_zP",
        "outputId": "c0722b31-4191-4688-99c8-103effe55e41"
      },
      "outputs": [
        {
          "name": "stdout",
          "output_type": "stream",
          "text": [
            "['we', 'love', 'we', 'love']\n"
          ]
        }
      ],
      "source": [
        "s = input()\n",
        "s = s.split(\" \")\n",
        "print(s)\n",
        "arr = []\n",
        "for i in range(len(s)):\n",
        "    if s[i] not in arr:\n",
        "        arr.append(s[i])\n",
        "        if i > 0:\n",
        "            if arr[i] == arr[i - 1]:\n",
        "                arr.remove(arr[i])\n",
        "    else:\n",
        "        arr.remove(s[i])\n",
        "\n",
        "print(' '.join(map(str, arr)))"
      ]
    },
    {
      "cell_type": "markdown",
      "metadata": {
        "id": "HtOiE1AVd_zQ"
      },
      "source": [
        "You are given with a string which comprises of some numbers. Your task is to find the largest integer by converting the string to the corresponding integer.\n",
        "\n",
        "Input Description:\n",
        "First line contains n denoting number of Test Cases. The first and only Line of testcase has the string\n",
        "\n",
        "Output Description:\n",
        "Print the largest number\n",
        "\n",
        "Sample Input :\n",
        " I was born on 12 october 1998.\n",
        "Sample Output :\n",
        "1998"
      ]
    },
    {
      "cell_type": "code",
      "execution_count": null,
      "metadata": {
        "id": "CXDoF4CUd_zR",
        "outputId": "6e352269-1b54-4c88-be57-33f8daa3f596"
      },
      "outputs": [
        {
          "name": "stdout",
          "output_type": "stream",
          "text": [
            "98\n"
          ]
        }
      ],
      "source": [
        "s = input()\n",
        "# s = [i for i in s]\n",
        "s = s.split(' ')\n",
        "# print(s)\n",
        "arr = []\n",
        "\n",
        "for i in range(len(s)):\n",
        "    if s[i].isnumeric():\n",
        "        arr.append(int(s[i]))\n",
        "    elif '.' in s[i] and s[i][:-1].isnumeric() :\n",
        "        arr.append(int(s[i][:-1]))\n",
        "# print(arr)\n",
        "print(max(arr))"
      ]
    },
    {
      "cell_type": "code",
      "execution_count": null,
      "metadata": {
        "id": "Rohks33sd_zS",
        "outputId": "d21f411a-f220-439a-f4bb-473fc550ba6c"
      },
      "outputs": [
        {
          "data": {
            "text/plain": [
              "False"
            ]
          },
          "execution_count": 38,
          "metadata": {},
          "output_type": "execute_result"
        }
      ],
      "source": [
        "x = '.'\n",
        "x.isnumeric()"
      ]
    },
    {
      "cell_type": "markdown",
      "metadata": {
        "id": "v4ATkbYpd_zT"
      },
      "source": [
        "Given a string 'S' swap the even and odd characters starting from index 1(Assume the index starts from 0).\n",
        "Input Size : |s| <= 10000000(complexity O(n))\n",
        "Sample Testcase :\n",
        "INPUT\n",
        "codekata\n",
        "OUTPUT\n",
        "ocedakat"
      ]
    },
    {
      "cell_type": "code",
      "execution_count": null,
      "metadata": {
        "id": "up1drqB-d_zU",
        "outputId": "d23ffb57-2a96-4c2f-ee52-c3a64128f43e"
      },
      "outputs": [
        {
          "name": "stdout",
          "output_type": "stream",
          "text": [
            "['p', 'r', 'i', 'f']\n",
            "['r', 'p', 'f', 'i']\n",
            "rpfi"
          ]
        }
      ],
      "source": [
        "from heapq import merge\n",
        "\n",
        "\n",
        "s = input()\n",
        "s = [i for i in s]\n",
        "print(s)\n",
        "p =[]\n",
        "q = []\n",
        "for i in range(len(s)):\n",
        "    if i%2 == 0:\n",
        "        p.append(s[i])\n",
        "    else:\n",
        "        q.append(s[i])\n",
        "\n",
        "op = [item for sublist in zip(q, p) for item in sublist]\n",
        "print(op)\n",
        "# for i in range(len(p)):\n",
        "#     if len(p)%2==0:\n",
        "#         op.append(q[i])\n",
        "#         op.append(p[i])\n",
        "#     else:\n",
        "#         pass\n",
        "for i in range(len(op)):\n",
        "    print(op[i],end='')\n"
      ]
    },
    {
      "cell_type": "markdown",
      "metadata": {
        "id": "m98wshrid_zV"
      },
      "source": [
        "Given a string S consisting of 2 words reverse the order of two words .\n",
        "Input Size : |S| <= 10000000\n",
        "Sample Testcase :\n",
        "INPUT\n",
        "hello world\n",
        "OUTPUT\n",
        "world hello"
      ]
    },
    {
      "cell_type": "code",
      "execution_count": null,
      "metadata": {
        "id": "IWhtpcRZd_zW",
        "outputId": "4e0c4b80-8b35-490f-bb25-0ba632a4cd0b"
      },
      "outputs": [
        {
          "name": "stdout",
          "output_type": "stream",
          "text": [
            "['hello', 'world']\n",
            "world hello\n"
          ]
        }
      ],
      "source": [
        "n = input()\n",
        "n = [i for i in n.split(' ')]\n",
        "print(n)\n",
        "n.reverse()\n",
        "\n",
        "print(' '.join(n))"
      ]
    },
    {
      "cell_type": "markdown",
      "metadata": {
        "id": "szTDgfUId_zX"
      },
      "source": [
        "Given a number N followed by N numbers.Find the smallest number and largest number and print both the indices(1 based indexing).\n",
        "Input Size : N <= 100000\n",
        "Sample Testcase :\n",
        "INPUT\n",
        "5\n",
        "1 2 3 4 5\n",
        "OUTPUT\n",
        "1 5"
      ]
    },
    {
      "cell_type": "code",
      "execution_count": null,
      "metadata": {
        "id": "b0BSOLE5d_zY",
        "outputId": "affb2b22-a7d2-4691-9add-27ad8050c9df"
      },
      "outputs": [
        {
          "name": "stdout",
          "output_type": "stream",
          "text": [
            "5\n"
          ]
        }
      ],
      "source": [
        "n = int(input())\n",
        "p = input()\n",
        "p = [int(i) for i in p.split(' ')]\n",
        "m1 = max(p)\n",
        "m2 = min(p)\n",
        "print(p.index(m2)+1,p.index(m1)+1)"
      ]
    },
    {
      "cell_type": "markdown",
      "metadata": {
        "id": "ShF_aiJFd_zZ"
      },
      "source": [
        "In a firm there is an intelligent employee. He said that he will not work on all those days which has factors more than 2. You are given with month and year calculate the no of working days of employee.\n",
        "\n",
        "Input Description:\n",
        "Month(M) and year(Y)\n",
        "\n",
        "Output Description:\n",
        "N denoting no of working days\n",
        "\n",
        "Sample Input :\n",
        "May 2016\n",
        "Sample Output :\n",
        "11"
      ]
    },
    {
      "cell_type": "code",
      "execution_count": null,
      "metadata": {
        "id": "a9i4AKWdd_za"
      },
      "outputs": [],
      "source": []
    },
    {
      "cell_type": "markdown",
      "metadata": {
        "id": "TLL56thCd_zb"
      },
      "source": [
        "Check whether the given 4 points form a square or not.\n",
        "Example:\n",
        "INPUT\n",
        "10 10\n",
        "10 20\n",
        "20 20\n",
        "20 10\n",
        "OUTPUT\n",
        "yes"
      ]
    },
    {
      "cell_type": "code",
      "execution_count": null,
      "metadata": {
        "id": "ujB-KPN7d_zc",
        "outputId": "58d57126-b38a-43c4-b178-59a0edd5ddf3"
      },
      "outputs": [
        {
          "name": "stdout",
          "output_type": "stream",
          "text": [
            "No\n"
          ]
        }
      ],
      "source": [
        "import math\n",
        "# a = input()\n",
        "# b = input()\n",
        "# c = input()\n",
        "# d = input()\n",
        "# a = [int(i) for i in a.split()]\n",
        "# b = [int(i) for i in b.split()]\n",
        "# c = [int(i) for i in c.split()]\n",
        "# d = [int(i) for i in d.split()]\n",
        "# p = [a,b,c,d]\n",
        "# for i in range(len(p)):\n",
        "#     x = p[i]\n",
        "#     y = p[i+1]\n",
        "#     if math.dist(x,y) == math.dist(y,x):\n",
        "#         print(\"Yes\")\n",
        "#     else:\n",
        "#         print(\"no\")\n",
        "    \n",
        "# print(math.dist(a,b))\n",
        "# print(math.dist(c,d))\n",
        "# A Python3 program to check if\n",
        "# four given points form a square or not.\n",
        "# class Point:\n",
        "\t\n",
        "# \t# Structure of a point in 2D space\n",
        "# \tdef __init__(self, x, y):\n",
        "# \t\tself.x = x\n",
        "# \t\tself.y = y\n",
        "\n",
        "# # A utility function to find square of\n",
        "# # distance from point 'p' to point 'q'\n",
        "# def distSq(p, q):\n",
        "# \treturn (p.x - q.x) * (p.x - q.x) +\\\n",
        "# \t\t(p.y - q.y) * (p.y - q.y)\n",
        "\n",
        "# This function returns true if (p1, p2, p3, p4)\n",
        "# form a square, otherwise false\n",
        "def isSquare(p1, p2, p3, p4):\n",
        "\n",
        "\td2 = math.dist(p1, p2) # from p1 to p2\n",
        "\td3 = math.dist(p1, p3) # from p1 to p3\n",
        "\td4 = math.dist(p1, p4) # from p1 to p4\n",
        "\n",
        "\tif d2 == 0 or d3 == 0 or d4 == 0:\n",
        "\t\treturn False\n",
        "\n",
        "\t# If lengths if (p1, p2) and (p1, p3) are same, then\n",
        "\t# following conditions must be met to form a square.\n",
        "\t# 1) Square of length of (p1, p4) is same as twice\n",
        "\t# the square of (p1, p2)\n",
        "\t# 2) Square of length of (p2, p3) is same\n",
        "\t# as twice the square of (p2, p4)\n",
        "\n",
        "\tif d2 == d3 and 2 * d2 == d4 and \\\n",
        "\t\t\t\t\t2 * math.dist(p2, p4) == math.dist(p2, p3):\n",
        "\t\treturn True\n",
        "\n",
        "\t# The below two cases are similar to above case\n",
        "\tif d3 == d4 and 2 * d3 == d2 and \\\n",
        "\t\t\t\t\t2 * math.dist(p3, p2) == math.dist(p3, p4):\n",
        "\t\treturn True\n",
        "\n",
        "\tif d2 == d4 and 2 * d2 == d3 and \\\n",
        "\t\t\t\t\t2 * math.dist(p2, p3) == math.dist(p2, p4):\n",
        "\t\treturn True\n",
        "\n",
        "\treturn False\n",
        "\n",
        "# Driver Code\n",
        "\n",
        "p1 = input()\n",
        "p2 = input()\n",
        "p3 = input()\n",
        "p4 = input()\n",
        "p1 = [int(i) for i in p1.split()]\n",
        "p2 = [int(i) for i in p2.split()]\n",
        "p3 = [int(i) for i in p3.split()]\n",
        "p4 = [int(i) for i in p4.split()]\n",
        "if isSquare(p1, p2, p3, p4):\n",
        "\tprint('Yes')\n",
        "else:\n",
        "\tprint('No')\n",
        "\n",
        "# This code is contributed by Mayank Chaudhary\n",
        "# aka chaudhary_19\n",
        "\n"
      ]
    },
    {
      "cell_type": "markdown",
      "metadata": {
        "id": "uJRuTXUhd_ze"
      },
      "source": [
        "You are an employee of ‘Rox Travel’ channel.The channel has decided to give allowances to some customer who satisfy these conditions. The conditions are:\n",
        "\n",
        "The customer should be born on or before july 22 1987\n",
        "\n",
        "The month of D.O.B month should be of 31 days.\n",
        "\n",
        "You are given with the D.O.B of all the employees.Your task is to print the employee index who are having chance to avail special offer.\n",
        "\n",
        "Input Description:\n",
        "First line contains the number of employee.Next line contains an array of D.O.B of employees\n",
        "\n",
        "Output Description:\n",
        "Print the employee index (index at 1). Print-1 if there are no such employee\n",
        "\n",
        "Sample Input :\n",
        "Input\n",
        "4\n",
        "23 MARCH 1996 23 MARCH 1986 22 JULY 1987 23 APRIL 1987\n",
        "Sample Output :\n",
        "2 3"
      ]
    },
    {
      "cell_type": "code",
      "execution_count": null,
      "metadata": {
        "colab": {
          "base_uri": "https://localhost:8080/"
        },
        "id": "p5Kvo0dCd_zf",
        "outputId": "6b07d8ee-e5c3-44fd-b5d6-d4644adfd7b2"
      },
      "outputs": [
        {
          "name": "stdout",
          "output_type": "stream",
          "text": [
            "4\n",
            "23 MARCH 1996 23 MARCH 1986 22 JULY 1987 23 APRIL 1987\n",
            "elif\n",
            "elif\n",
            "[1, 2]\n"
          ]
        }
      ],
      "source": [
        "# import numpy as np\n",
        "s = int(input())\n",
        "d = input()\n",
        "d = [i for i in d.split()]\n",
        "# d = np.array(d)\n",
        "month = d[1::3]\n",
        "day = d[0::3]\n",
        "day = [int(i) for i in day]\n",
        "year = d[2::3]\n",
        "year = [int(i) for i in year]\n",
        "# print(month)\n",
        " \n",
        "def mtn(x):\n",
        "    months = {\n",
        "        'jan': 1,\n",
        "        'feb': 2,\n",
        "        'mar': 3,\n",
        "        'apr':4,\n",
        "         'may':5,\n",
        "         'jun':6,\n",
        "         'jul':7,\n",
        "         'aug':8,\n",
        "         'sep':9,\n",
        "         'oct':10,\n",
        "         'nov':11,\n",
        "         'dec':12\n",
        "        }\n",
        "    a = x.strip()[:3].lower()\n",
        "    try:\n",
        "        ez = months[a]\n",
        "        # print (ez)\n",
        "    except:\n",
        "        raise ValueError('Not a month')\n",
        "    return ez\n",
        "\n",
        "for i in range(len(month)):\n",
        "    month[i] = mtn(month[i])\n",
        "    # print(mtn(month[i]))\n",
        "\n",
        "# print(month,day,year)\n",
        "output =[ ]\n",
        "for i in range(s):\n",
        "    if day[i]>22 and (month[i] >= 7 or month[i] in [2,4,6]) and year[i] == 1987:\n",
        "        continue\n",
        "        # print('if')\n",
        "    elif month[i] in [1,3,5,7,8,10,12] and year[i]<=1987:\n",
        "        # print('elif')\n",
        "        output.append(i+1)\n",
        "\n",
        "output = \" \".join([str(i) for i in output])\n",
        "print(output)    \n",
        "# 4\n",
        "# 23 MARCH 1996 23 MARCH 1986 22 JULY 1987 23 APRIL 1987\n"
      ]
    },
    {
      "cell_type": "code",
      "execution_count": null,
      "metadata": {
        "id": "7B2RpO8xd_zh",
        "outputId": "89557e5e-d3d8-45b3-ce1f-9abc56746cc0"
      },
      "outputs": [
        {
          "data": {
            "text/plain": [
              "3"
            ]
          },
          "execution_count": 26,
          "metadata": {},
          "output_type": "execute_result"
        }
      ],
      "source": [
        "mtn('march')"
      ]
    },
    {
      "cell_type": "markdown",
      "metadata": {
        "id": "-ZWWFI-5d_zi"
      },
      "source": [
        "Write a program to get a list of integers as input and find the LCM of the values without using GCD\n",
        "\n",
        "Input Description:\n",
        "First line contains an integer N, number of values. Second line contains N space separated values.\n",
        "\n",
        "Output Description:\n",
        "Print the LCM of the values.\n",
        "\n",
        "Sample Input :\n",
        "1 2 3 4 5\n",
        "Sample Output :\n",
        "60"
      ]
    },
    {
      "cell_type": "code",
      "execution_count": null,
      "metadata": {
        "id": "mqhyFLmSd_zi",
        "outputId": "a3198456-ff24-4f9c-8f60-2781feb873b0"
      },
      "outputs": [
        {
          "name": "stdout",
          "output_type": "stream",
          "text": [
            "6\n"
          ]
        }
      ],
      "source": [
        "import numpy as np\n",
        "\n",
        "n = input()\n",
        "n = [int(i) for i in n.split(' ')]\n",
        "print(np.lcm.reduce(n))\n",
        "\n"
      ]
    },
    {
      "cell_type": "markdown",
      "metadata": {
        "id": "Y2nsQalbd_zj"
      },
      "source": [
        "You are given an array of digits. Your task is to print the digit with maximum frequency.\n",
        "\n",
        "Input Description:\n",
        "You are given length of array ’n’,next line contains n space separated numbers.\n",
        "\n",
        "Output Description:\n",
        "Print the number with maximum frequency. If two number have equal freqency prin the number that comes first\n",
        "\n",
        "Sample Input :\n",
        "7\n",
        "1 2 3 4 4 4 5\n",
        "Sample Output :\n",
        "4"
      ]
    },
    {
      "cell_type": "code",
      "execution_count": null,
      "metadata": {
        "id": "d9-lJfKJd_zk",
        "outputId": "423563db-6117-498f-e88c-2136957e2102"
      },
      "outputs": [
        {
          "name": "stdout",
          "output_type": "stream",
          "text": [
            "{1: 1, 2: 1, 3: 1, 4: 3, 5: 1}\n"
          ]
        },
        {
          "ename": "TypeError",
          "evalue": "object of type 'numpy.int32' has no len()",
          "output_type": "error",
          "traceback": [
            "\u001b[1;31m---------------------------------------------------------------------------\u001b[0m",
            "\u001b[1;31mTypeError\u001b[0m                                 Traceback (most recent call last)",
            "\u001b[1;32mg:\\Codekata\\codekata.ipynb Cell 50\u001b[0m in \u001b[0;36m<cell line: 10>\u001b[1;34m()\u001b[0m\n\u001b[0;32m     <a href='vscode-notebook-cell:/g%3A/Codekata/codekata.ipynb#Y100sZmlsZQ%3D%3D?line=9'>10</a>\u001b[0m \u001b[39mfor\u001b[39;00m i \u001b[39min\u001b[39;00m \u001b[39mrange\u001b[39m(\u001b[39mlen\u001b[39m(arr)):\n\u001b[0;32m     <a href='vscode-notebook-cell:/g%3A/Codekata/codekata.ipynb#Y100sZmlsZQ%3D%3D?line=10'>11</a>\u001b[0m     great \u001b[39m=\u001b[39m \u001b[39m0\u001b[39m\n\u001b[1;32m---> <a href='vscode-notebook-cell:/g%3A/Codekata/codekata.ipynb#Y100sZmlsZQ%3D%3D?line=11'>12</a>\u001b[0m     \u001b[39mif\u001b[39;00m \u001b[39mlen\u001b[39;49m(arr[arr[i]]) \u001b[39m>\u001b[39m\u001b[39m=\u001b[39m \u001b[39mlen\u001b[39m(arr[arr[i\u001b[39m+\u001b[39m\u001b[39m1\u001b[39m]]):\n\u001b[0;32m     <a href='vscode-notebook-cell:/g%3A/Codekata/codekata.ipynb#Y100sZmlsZQ%3D%3D?line=12'>13</a>\u001b[0m         great \u001b[39m=\u001b[39m arr[i]\n\u001b[0;32m     <a href='vscode-notebook-cell:/g%3A/Codekata/codekata.ipynb#Y100sZmlsZQ%3D%3D?line=13'>14</a>\u001b[0m     \u001b[39melse\u001b[39;00m:\n",
            "\u001b[1;31mTypeError\u001b[0m: object of type 'numpy.int32' has no len()"
          ]
        }
      ],
      "source": [
        "n = int(input())\n",
        "arr = input()\n",
        "arr = [int(i) for i in arr.split(' ')]\n",
        "arr = np.array(arr)\n",
        "unique, counts = np.unique(arr, return_counts=True)\n",
        "\n",
        "op = dict(zip(unique, counts))\n",
        "print(op)\n",
        "\n",
        "for i in (arr):\n",
        "    great = 0\n",
        "    if len(arr[arr==i]) > great:\n",
        "        great = i\n",
        "    else:\n",
        "        great = is\n"
      ]
    },
    {
      "cell_type": "markdown",
      "metadata": {
        "id": "WC-QS7rGku_h"
      },
      "source": [
        "Ramesh is given a special series to print,as he has some other work to do.Help ramesh in printing the series.\n",
        "\n",
        " \n",
        "\n",
        "Note:Observe the series very keenly in examples\n",
        "\n",
        "Input Description:\n",
        "You are given a number ‘n’.\n",
        "\n",
        "Output Description:\n",
        "Print the n term of series.\n",
        "\n",
        "Sample Input :\n",
        "6\n",
        "Sample Output :\n",
        "1 6 120"
      ]
    },
    {
      "cell_type": "code",
      "execution_count": null,
      "metadata": {
        "colab": {
          "base_uri": "https://localhost:8080/"
        },
        "id": "TYPGY3o3ktfj",
        "outputId": "3b912589-8cff-4308-883a-ed7330324ced"
      },
      "outputs": [
        {
          "name": "stdout",
          "output_type": "stream",
          "text": [
            "3\n",
            "1 6\n"
          ]
        }
      ],
      "source": [
        "n = int(input())\n",
        "if n > 5:\n",
        "  print(int(n/n), n, n*20)\n",
        "else:\n",
        "  print(int(n/n),n*2)"
      ]
    },
    {
      "cell_type": "markdown",
      "metadata": {
        "id": "4d7K_0GspJ7P"
      },
      "source": [
        "A ‘zx’ number is a number which is formed from the sum of 3 numbers ,and the three numbers are such that their hcf equal to 1.\n",
        "\n",
        "You are given a number.You have to tell whether the number is ‘zx’ or not,if yes then print the three numbers else 0\n",
        "\n",
        "Input Description:\n",
        "You are given a number ‘n’\n",
        "\n",
        "Output Description:\n",
        "Print the three numbers if n is ‘zx’ number in ascending order else 0\n",
        "\n",
        "Sample Input :\n",
        "7\n",
        "Sample Output :\n",
        "2 3 2"
      ]
    },
    {
      "cell_type": "code",
      "execution_count": null,
      "metadata": {
        "colab": {
          "base_uri": "https://localhost:8080/"
        },
        "id": "mXPTsu2WpNjK",
        "outputId": "a35e78ea-1b52-4947-ce78-eb49a3933dbf"
      },
      "outputs": [
        {
          "name": "stdout",
          "output_type": "stream",
          "text": [
            "7\n",
            "0\n",
            "3.5\n"
          ]
        }
      ],
      "source": [
        "n = int(input())\n",
        "if n % 2 == 0:\n",
        "  pass\n",
        "else:\n",
        "  print(0)\n",
        "mean = n/2\n",
        "print(mean)"
      ]
    },
    {
      "cell_type": "markdown",
      "metadata": {
        "id": "QarpAIl-JRVa"
      },
      "source": [
        "In a firm there is an intelligent employee. He said that he will not work on all those days which has factors more than 2. You are given with month and year calculate the no of working days of employee.\n",
        "\n",
        "Input Description:\n",
        "Month(M) and year(Y)\n",
        "\n",
        "Output Description:\n",
        "N denoting no of working days\n",
        "\n",
        "Sample Input :\n",
        "May 2016\n",
        "Sample Output :\n",
        "11"
      ]
    },
    {
      "cell_type": "code",
      "execution_count": null,
      "metadata": {
        "colab": {
          "base_uri": "https://localhost:8080/"
        },
        "id": "OPPvx47EJTLj",
        "outputId": "ee1393a9-2c31-41eb-e2db-84769f512687"
      },
      "outputs": [
        {
          "name": "stdout",
          "output_type": "stream",
          "text": [
            "May 298\n",
            "11\n"
          ]
        }
      ],
      "source": [
        "d = input()\n",
        "d = [i for i in d.split(' ')]\n",
        "def mtn(x):\n",
        "    months = {\n",
        "        'jan': 1,\n",
        "        'feb': 2,\n",
        "        'mar': 3,\n",
        "        'apr':4,\n",
        "         'may':5,\n",
        "         'jun':6,\n",
        "         'jul':7,\n",
        "         'aug':8,\n",
        "         'sep':9,\n",
        "         'oct':10,\n",
        "         'nov':11,\n",
        "         'dec':12\n",
        "        }\n",
        "    a = x.strip()[:3].lower()\n",
        "    try:\n",
        "        ez = months[a]\n",
        "        # print (ez)\n",
        "    except:\n",
        "        raise ValueError('Not a month')\n",
        "    return ez\n",
        "\n",
        "\n",
        "m = mtn(d[0])\n",
        "if m in [1,3,5,7,8,10,12]:\n",
        "  days = 31\n",
        "elif m in [4,6,9,11]:\n",
        "  days = 30\n",
        "else:\n",
        "  days = 29\n",
        "count = 0\n",
        "for num in range(2, days + 1):\n",
        "   # all prime numbers are greater than 1\n",
        "   if num > 1:\n",
        "       for i in range(2, num):\n",
        "           if (num % i) == 0:\n",
        "               break\n",
        "       else:\n",
        "           count += 1\n",
        "print(count)\n",
        "\n",
        "\n",
        "  "
      ]
    },
    {
      "cell_type": "markdown",
      "metadata": {
        "id": "G5foViuZNKRm"
      },
      "source": [
        "Simi is learning about palindromic numbers. Her teacher gave him the task to count all palindromic numbers present in that range.Simi has told you about this and want your help. You design an algorithm in order to help simi.\n",
        "\n",
        "Input Description:\n",
        "You will be given a number ‘n’\n",
        "\n",
        "Output Description:\n",
        "Print the count of all palindromic numbers till ‘n’(inclusive)\n",
        "\n",
        "Sample Input :\n",
        "5\n",
        "Sample Output :\n",
        "5"
      ]
    },
    {
      "cell_type": "code",
      "execution_count": null,
      "metadata": {
        "colab": {
          "base_uri": "https://localhost:8080/"
        },
        "id": "MTCg4xjKNLEM",
        "outputId": "e5394964-695d-490f-cc5e-b1b6ff5fefdf"
      },
      "outputs": [
        {
          "name": "stdout",
          "output_type": "stream",
          "text": [
            "10\n",
            "[1, 2, 3, 4, 5, 6, 7, 8, 9, 10]\n",
            "9\n"
          ]
        }
      ],
      "source": [
        "import copy\n",
        "n = int(input())\n",
        "num = []\n",
        "for i in range(1,n+1):\n",
        "  num.append(i)\n",
        "count = 0\n",
        "for i in num:\n",
        "  if str(i) == str(i)[::-1]:\n",
        "    count += 1\n",
        "  else:\n",
        "    pass\n",
        "print(num)\n",
        "print(count)\n"
      ]
    },
    {
      "cell_type": "markdown",
      "metadata": {
        "id": "TuypO0yCcUqD"
      },
      "source": [
        "Assume your brother studies in class 2. He has to  complete his homework on co-primes. As an elder sibling help him in finding whether the given two numbers is co-prime or not.\n",
        "\n",
        "Input Description:\n",
        "You will be given two numbers ‘n’ and ‘m’\n",
        "\n",
        "Output Description:\n",
        "Your task is to tell whether numbers is co prime or not. If it is a co-prime print 1 else 0\n",
        "\n",
        "Sample Input :\n",
        "3 5\n",
        "Sample Output :\n",
        "1"
      ]
    },
    {
      "cell_type": "code",
      "execution_count": null,
      "metadata": {
        "colab": {
          "base_uri": "https://localhost:8080/"
        },
        "id": "N17NO_FWcVaa",
        "outputId": "5a3e36b5-0209-4e17-a10a-b6e27ada7467"
      },
      "outputs": [
        {
          "name": "stdout",
          "output_type": "stream",
          "text": [
            "3 5\n"
          ]
        },
        {
          "data": {
            "text/plain": [
              "True"
            ]
          },
          "execution_count": 20,
          "metadata": {},
          "output_type": "execute_result"
        }
      ],
      "source": [
        "n = input()\n",
        "n = [int(i) for i in n.split(' ')]\n",
        "def gcd(p,q):\n",
        "# Create the gcd of two positive integers.\n",
        "    while q != 0:\n",
        "        p, q = q, p%q\n",
        "    return p\n",
        "def is_coprime(x, y):\n",
        "    return gcd(x, y) == 1\n",
        "if is_coprime(n[0],n[1]):\n",
        "  print('1')\n",
        "else:\n",
        "  print('0')"
      ]
    },
    {
      "cell_type": "markdown",
      "metadata": {
        "id": "jU5UVKTiiGnG"
      },
      "source": [
        "Given a number N, print the odd digits in the number(space seperated) or print -1 if there is no odd digit in the given number.\n",
        "Input Size : N <= 100000\n",
        "Sample Testcase :\n",
        "INPUT\n",
        "2143\n",
        "OUTPUT\n",
        "1 3"
      ]
    },
    {
      "cell_type": "code",
      "execution_count": null,
      "metadata": {
        "colab": {
          "base_uri": "https://localhost:8080/"
        },
        "id": "nQjqDUvpiGOm",
        "outputId": "ca0e61aa-6162-4ec1-b74f-28ffb155d08f"
      },
      "outputs": [
        {
          "name": "stdout",
          "output_type": "stream",
          "text": [
            "2134\n",
            "1 3\n"
          ]
        }
      ],
      "source": [
        "n = input()\n",
        "n = [int(i) for i in n]\n",
        "odd = list(filter(lambda x : x%2 != 0, n))\n",
        "# for i in odd:\n",
        "#   strip(print(i,end = \"\"))\n",
        "output = ' '.join([str(x) for x in odd])\n",
        "if len(output)>=1:\n",
        "  print(output)\n",
        "else:\n",
        "  print(-1)"
      ]
    },
    {
      "cell_type": "markdown",
      "metadata": {
        "id": "LP-GEjWRuUxR"
      },
      "source": [
        "Pk finds it difficult to judge the minimum element in the list of elements given to him. Your task is to develop the algorithm in order to find the minimum element.\n",
        "\n",
        " \n",
        "\n",
        "Note:Don’t use sorting\n",
        " \n",
        "\n",
        "Input Description:\n",
        "You are given ‘n’ number of elements. Next line contains n space separated numbers.\n",
        "\n",
        "Output Description:\n",
        "Print the minimum element\n",
        "\n",
        "Sample Input :\n",
        "5\n",
        "3 4 9 1 6\n",
        "Sample Output :\n",
        "1"
      ]
    },
    {
      "cell_type": "code",
      "execution_count": null,
      "metadata": {
        "colab": {
          "base_uri": "https://localhost:8080/"
        },
        "id": "Q8zFH0k2tV5d",
        "outputId": "d2007f83-b1cf-4627-83f1-26ec594e0918"
      },
      "outputs": [
        {
          "name": "stdout",
          "output_type": "stream",
          "text": [
            "5\n",
            "3 4 9 1 6\n",
            "1\n"
          ]
        }
      ],
      "source": [
        "n = input()\n",
        "y = input()\n",
        "y = [int(i) for i in y.split(\" \")]\n",
        "print(min(y))"
      ]
    },
    {
      "cell_type": "markdown",
      "metadata": {
        "id": "GcUkYIbbvNLU"
      },
      "source": [
        "Given a number N, print yes if the number is a multiple of 7 else print no.\n",
        "Sample Testcase :\n",
        "INPUT\n",
        "49\n",
        "OUTPUT\n",
        "yes"
      ]
    },
    {
      "cell_type": "code",
      "execution_count": null,
      "metadata": {
        "colab": {
          "base_uri": "https://localhost:8080/"
        },
        "id": "qw61x42yvOlE",
        "outputId": "67b9010a-f9fa-42b1-f7d7-8195c3a122bd"
      },
      "outputs": [
        {
          "name": "stdout",
          "output_type": "stream",
          "text": [
            "49\n",
            "yes\n"
          ]
        }
      ],
      "source": [
        "N = int(input())\n",
        "if N%7 == 0:\n",
        "  print('yes')\n",
        "else:\n",
        "  print('no')"
      ]
    },
    {
      "cell_type": "markdown",
      "metadata": {
        "id": "etqEROXavs_H"
      },
      "source": [
        "You are given a large number made of only 0’s and 1’s.Your task is to find the max no of consecutive 1’s. If there are no 1’s print -1\n",
        "\n",
        "Input Description:\n",
        "A large number ‘n’\n",
        "\n",
        "Output Description:\n",
        "Print the max no of consecutive 1 in the number\n",
        "\n",
        "Sample Input :\n",
        "101011111\n",
        "Sample Output :\n",
        "5"
      ]
    },
    {
      "cell_type": "code",
      "execution_count": null,
      "metadata": {
        "colab": {
          "base_uri": "https://localhost:8080/"
        },
        "id": "1DTQzNNovttU",
        "outputId": "4531ed19-3f12-41dc-c649-82563c465c3f"
      },
      "outputs": [
        {
          "name": "stdout",
          "output_type": "stream",
          "text": [
            "101011111\n",
            "['1', '1', '11111']\n",
            "5\n"
          ]
        }
      ],
      "source": [
        "# Function to find Maximum length of consecutive 1's in a binary string\n",
        "\n",
        "# def maxConsecutive1(input):\n",
        "\t# input.split('0') --> splits all sub-strings of consecutive 1's\n",
        "\t# separated by 0's, output will be like ['11','1111','1','1','111']\n",
        "\t# map(len,input.split('0')) --> map function maps len function on each\n",
        "\t# sub-string of consecutive 1's\n",
        "\t# max() returns maximum element from a list\n",
        "\t# print max(map(len,input.split('0')))\n",
        "\n",
        "# Driver program\n",
        "n = input()\n",
        "n = [i for i in n.split('0')]\n",
        "# print(n)\n",
        "for i in n:\n",
        "  max = 0\n",
        "  if '1' in n:\n",
        "    if len(i)>max:\n",
        "      max = len(i)\n",
        "    else:\n",
        "      pass\n",
        "if max == 0:\n",
        "  print(-1)\n",
        "else:\n",
        "  print(max)"
      ]
    },
    {
      "cell_type": "markdown",
      "metadata": {
        "id": "uGAky6xX3IWJ"
      },
      "source": [
        "Given a number N, find its next immediate greater power of 2(i.e 2^1, 2^2, 2^3...).\n",
        "Input Size : N <= 1000\n",
        "Sample Testcase :\n",
        "INPUT\n",
        "4\n",
        "OUTPUT\n",
        "8"
      ]
    },
    {
      "cell_type": "code",
      "execution_count": null,
      "metadata": {
        "colab": {
          "base_uri": "https://localhost:8080/"
        },
        "id": "KAbuKvMd3JZF",
        "outputId": "7bdcf787-1ec3-4000-b3fc-a65152265d88"
      },
      "outputs": [
        {
          "name": "stdout",
          "output_type": "stream",
          "text": [
            "4\n",
            "8\n"
          ]
        }
      ],
      "source": [
        "n = int(input())\n",
        "if n%2 == 0:\n",
        "  print(n*2)"
      ]
    },
    {
      "cell_type": "markdown",
      "metadata": {
        "id": "7lHwuMu23rz5"
      },
      "source": [
        "Given a number N, print 'yes' if it is a multiple of 13 else print 'no'.\n",
        "Sample Testcase :\n",
        "INPUT\n",
        "26\n",
        "OUTPUT\n",
        "yes"
      ]
    },
    {
      "cell_type": "code",
      "execution_count": null,
      "metadata": {
        "id": "9hOpmmKh3snx"
      },
      "outputs": [],
      "source": [
        "n = int(input())\n",
        "if n%13 == 0:\n",
        "  print('yes')\n",
        "else:\n",
        "  print('no')"
      ]
    },
    {
      "cell_type": "markdown",
      "metadata": {
        "id": "LHgN9KGa4Oug"
      },
      "source": [
        "\n",
        "Share\n",
        "boy rolls an unbiased die until he gets ‘1’. You are given a number n find the total sum of probability that he will get ‘1’ on or before nth trial.(Probability of getting 1 at 1 time + probability of getting 1 at 2 trial….+probability of getting 1 at nth trial)\n",
        "\n",
        " \n",
        "\n",
        "Constraints\n",
        "\n",
        "1<=n<=1000\n",
        "\n",
        "Input Description:\n",
        "You are given a number ‘n’.\n",
        "\n",
        "Output Description:\n",
        "Print two numbers denoting numerator and denominator\n",
        "\n",
        "Sample Input :\n",
        "1\n",
        "Sample Output :\n",
        "1 6"
      ]
    },
    {
      "cell_type": "markdown",
      "metadata": {
        "id": "l3uWrzSlBe_d"
      },
      "source": [
        "cab or Walk"
      ]
    },
    {
      "cell_type": "code",
      "execution_count": 30,
      "metadata": {
        "colab": {
          "base_uri": "https://localhost:8080/"
        },
        "id": "mYj_B7fG4URf",
        "outputId": "26ed6c1c-d131-43cb-97bd-43c3ef34047a"
      },
      "outputs": [
        {
          "name": "stdout",
          "output_type": "stream",
          "text": [
            "2\n",
            "5 10 15\n",
            "2 10 14\n",
            "[[5, 10, 15], [2, 10, 14]]\n",
            "walk\n",
            "cab\n"
          ]
        }
      ],
      "source": [
        "import math\n",
        "T = int(input())\n",
        "cases = []\n",
        "for i in range(T):\n",
        "  x = input()\n",
        "  x = [int(i) for i in x.split(' ')]\n",
        "  cases.append(x)\n",
        "# print(cases)\n",
        "for i in cases:\n",
        "  distW = i[0]*math.sqrt(2)\n",
        "  distC = 2*i[0]\n",
        "  speedW = i[1]\n",
        "  speedC = i[2]\n",
        "  timeW = distW / speedW\n",
        "  timeC = distC / speedC\n",
        "  if timeW < timeC:\n",
        "    print('cab')\n",
        "  else:\n",
        "    print('walk')\n"
      ]
    },
    {
      "cell_type": "markdown",
      "metadata": {
        "id": "i6WxbPyW9ZbD"
      },
      "source": [
        "Palindrome"
      ]
    },
    {
      "cell_type": "code",
      "execution_count": 9,
      "metadata": {
        "colab": {
          "base_uri": "https://localhost:8080/"
        },
        "id": "0Hb5exwD9bcM",
        "outputId": "6802c91f-2a35-4bb9-d4f3-71bc594c9f23"
      },
      "outputs": [
        {
          "name": "stdout",
          "output_type": "stream",
          "text": [
            "2\n",
            "ab\n",
            "babba\n",
            "ab no\n",
            "babba yes\n"
          ]
        }
      ],
      "source": [
        "T = int(input())\n",
        "string = []\n",
        "for i in range(T):\n",
        "  x = input()\n",
        "  string.append(x)\n",
        "\n",
        "# for i in string:\n",
        "#   if i == i[::-1]:\n",
        "#     print('yes')\n",
        "#   else:\n",
        "#     print('no')\n",
        "class Solution:\n",
        "   def countSubstrings(self, s):\n",
        "      counter = 0\n",
        "      for i in range(len(s)):\n",
        "         for j in range(i+2,len(s)+2):\n",
        "            temp = s[i:j]\n",
        "            if temp == temp[::-1]:\n",
        "               counter+=1\n",
        "      return counter\n",
        "ob1 = Solution()\n",
        "# print(ob1.countSubstrings(\"abba\"))\n",
        "for i in string:\n",
        "  if ob1.countSubstrings(i) > 1:\n",
        "    print(i,'yes')\n",
        "  else:\n",
        "    print(i,'no')"
      ]
    },
    {
      "cell_type": "markdown",
      "metadata": {
        "id": "l0UN8xz7GG42"
      },
      "source": [
        "Juggler"
      ]
    },
    {
      "cell_type": "code",
      "execution_count": 17,
      "metadata": {
        "colab": {
          "base_uri": "https://localhost:8080/"
        },
        "id": "VSSfrkRZGIs1",
        "outputId": "b11e3735-54b9-4dbc-f6cd-7b704936df1d"
      },
      "outputs": [
        {
          "name": "stdout",
          "output_type": "stream",
          "text": [
            "2\n",
            "2\n",
            "3\n",
            "[[1, 2], [1, 2, 3]]\n"
          ]
        }
      ],
      "source": [
        "import numpy as np\n",
        "T = int(input())\n",
        "ranges = []\n",
        "for i in range(T):\n",
        "  x = int(input())\n",
        "  ranges.append(x)\n",
        "number = []\n",
        "for i in ranges:\n",
        "  x = np.arange(1,i+1)\n",
        "  x = list(x)\n",
        "  number.append(x)\n"
      ]
    },
    {
      "cell_type": "code",
      "execution_count": 31,
      "metadata": {
        "colab": {
          "base_uri": "https://localhost:8080/"
        },
        "id": "1LO-KOdyYm--",
        "outputId": "e0de3b65-a404-4359-faa1-d9f09a1195e0"
      },
      "outputs": [
        {
          "name": "stdout",
          "output_type": "stream",
          "text": [
            "[1]\n"
          ]
        }
      ],
      "source": [
        "class Solution:\n",
        "   def solve(self, n):\n",
        "      count = 1\n",
        "      ans = [count]\n",
        "\n",
        "      while len(ans) < n:\n",
        "         count *= 10\n",
        "         while count > n:\n",
        "            count = count // 10\n",
        "            count += 1\n",
        "            while count % 10 == 0:\n",
        "               count = count // 10\n",
        "               ans.append(count)\n",
        "            return ans\n",
        "\n",
        "ob = Solution()\n",
        "n = 15\n",
        "print(ob.solve(n))"
      ]
    },
    {
      "cell_type": "markdown",
      "metadata": {
        "id": "mPL588oMJOy2"
      },
      "source": [
        "Power of turning"
      ]
    },
    {
      "cell_type": "code",
      "execution_count": 28,
      "metadata": {
        "colab": {
          "base_uri": "https://localhost:8080/"
        },
        "id": "afZGm9UFJRgt",
        "outputId": "d71b4fb8-952a-49ed-9a47-56dba680a061"
      },
      "outputs": [
        {
          "name": "stdout",
          "output_type": "stream",
          "text": [
            "2\n",
            "101\n",
            "11\n",
            "[1, 0, 1]\n",
            "No\n",
            "[1, 1]\n",
            "No\n"
          ]
        }
      ],
      "source": [
        "import math\n",
        "T = int(input())\n",
        "cases = []\n",
        "for i in range(T):\n",
        "  x = input()\n",
        "  x = [int(i) for i in x]\n",
        "  cases.append(x)\n",
        "\n",
        "for i in cases:\n",
        "  # print(i)\n",
        "  if i.count(0) == 1 or i.count(1)==1:\n",
        "    print('Yes')\n",
        "  else:\n",
        "    print('No')"
      ]
    },
    {
      "cell_type": "code",
      "execution_count": 27,
      "metadata": {
        "colab": {
          "base_uri": "https://localhost:8080/"
        },
        "id": "RAXaWiRiKYov",
        "outputId": "f4d750d4-a488-4fef-fcf0-4418873149ac"
      },
      "outputs": [
        {
          "name": "stdout",
          "output_type": "stream",
          "text": [
            "false\n"
          ]
        }
      ],
      "source": [
        "lst = [1,2,3]\n",
        "if 4 in lst:\n",
        "  print('true')\n",
        "else:\n",
        "  print('false')"
      ]
    },
    {
      "cell_type": "markdown",
      "metadata": {
        "id": "rTe815VtKmC6"
      },
      "source": [
        "Shreya is a brilliant girl. She likes to memorize the numbers. These numbers will be shown to her. As an examiner develop an algorithm to test her memory.\n",
        "\n",
        " \n",
        "\n",
        "CONSTRAINTS\n",
        "\n",
        "1<=Y,N,T<=1000\n",
        "\n",
        "Input Description:\n",
        "First line contains no. of test cases(Y). Next line contains a number N. Next line contains n space separated numbers Next line contains a number T denoting the number of questions asked from you regarding the given array. Next line contains T space separated numbers.\n",
        "\n",
        "Output Description:\n",
        "Print the occurrence of each number if present else “NOT PRESENT”\n",
        "\n",
        "Sample Input :\n",
        "10\n",
        "1 1 1 2 2 2 3 8 9 7\n",
        "5\n",
        "1 2 3 0 5\n",
        "Sample Output :\n",
        "3 3 1 Not Present Not Present"
      ]
    },
    {
      "cell_type": "code",
      "execution_count": 6,
      "metadata": {
        "colab": {
          "base_uri": "https://localhost:8080/",
          "height": 281
        },
        "id": "GlWAsWf4KpEa",
        "outputId": "c6b82fbe-4844-4577-9ca1-017bf01fcef3"
      },
      "outputs": [
        {
          "name": "stdout",
          "output_type": "stream",
          "text": [
            "10\n",
            "1 1 1 2 2 2 3 8 9 7\n",
            "5\n",
            "1 2 3 0 5\n"
          ]
        },
        {
          "ename": "TypeError",
          "evalue": "ignored",
          "output_type": "error",
          "traceback": [
            "\u001b[0;31m---------------------------------------------------------------------------\u001b[0m",
            "\u001b[0;31mTypeError\u001b[0m                                 Traceback (most recent call last)",
            "\u001b[0;32m<ipython-input-6-65a40fdc7e56>\u001b[0m in \u001b[0;36m<module>\u001b[0;34m\u001b[0m\n\u001b[1;32m     13\u001b[0m     \u001b[0mop\u001b[0m\u001b[0;34m.\u001b[0m\u001b[0mappend\u001b[0m\u001b[0;34m(\u001b[0m\u001b[0;34m'Not Present'\u001b[0m\u001b[0;34m)\u001b[0m\u001b[0;34m\u001b[0m\u001b[0;34m\u001b[0m\u001b[0m\n\u001b[1;32m     14\u001b[0m \u001b[0;34m\u001b[0m\u001b[0m\n\u001b[0;32m---> 15\u001b[0;31m \u001b[0mprint\u001b[0m\u001b[0;34m(\u001b[0m\u001b[0;34m\" \"\u001b[0m\u001b[0;34m.\u001b[0m\u001b[0mjoin\u001b[0m\u001b[0;34m(\u001b[0m\u001b[0mop\u001b[0m \u001b[0;32mfor\u001b[0m \u001b[0mi\u001b[0m \u001b[0;32min\u001b[0m \u001b[0mop\u001b[0m\u001b[0;34m)\u001b[0m\u001b[0;34m)\u001b[0m\u001b[0;34m\u001b[0m\u001b[0;34m\u001b[0m\u001b[0m\n\u001b[0m",
            "\u001b[0;31mTypeError\u001b[0m: sequence item 0: expected str instance, list found"
          ]
        }
      ],
      "source": [
        "Y = int(input())\n",
        "N = input()\n",
        "N = [int(i) for i in N.split(' ')]\n",
        "T = int(input())\n",
        "t = input()\n",
        "t = [int(i) for i in t.split(' ')]\n",
        "op = []\n",
        "for i in range(T):\n",
        "  if t[i] in N:\n",
        "    count = N.count(t[i])\n",
        "    op.append(str(count))\n",
        "  else:\n",
        "    op.append('Not Present')\n",
        "\n",
        "print(\" \".join(op))"
      ]
    },
    {
      "cell_type": "markdown",
      "metadata": {
        "id": "9KUG4y4QOBFF"
      },
      "source": [
        "Given a floating point number with 1 decimal place round it off to nearest greater integer and print it.\n",
        "Sample Testcase :\n",
        "INPUT\n",
        "2.6\n",
        "OUTPUT\n",
        "3"
      ]
    },
    {
      "cell_type": "code",
      "execution_count": 25,
      "metadata": {
        "colab": {
          "base_uri": "https://localhost:8080/"
        },
        "id": "EUVnRS0nNxI9",
        "outputId": "2d62da65-99bf-487d-9641-357263684e7c"
      },
      "outputs": [
        {
          "name": "stdout",
          "output_type": "stream",
          "text": [
            "21.7\n",
            "22\n"
          ]
        }
      ],
      "source": [
        "n = float(input())\n",
        "rem = n%int(str(n)[:-2])\n",
        "n = n - rem\n",
        "print(int(n+1))"
      ]
    },
    {
      "cell_type": "markdown",
      "metadata": {
        "id": "Y9LzpsJWQiQ9"
      },
      "source": [
        "Ajay is given a series(In example).he gone through the series but unable to understand it properly,he has hired you.Your task is to understand the series and print the series 2,6,12,20,30... .You are given with a number ‘n’. Find the nth number of series.\n",
        "\n",
        "Input Description:\n",
        "You are given a number ‘n’.\n",
        "\n",
        "Output Description:\n",
        "Print the nth number of series\n",
        "\n",
        "Sample Input :\n",
        "5\n",
        "Sample Output :\n",
        "30"
      ]
    },
    {
      "cell_type": "code",
      "execution_count": 35,
      "metadata": {
        "colab": {
          "base_uri": "https://localhost:8080/"
        },
        "id": "EVCq_k6JOfap",
        "outputId": "0ac0aa9e-7d83-4b78-f18f-55ef0a2468b6"
      },
      "outputs": [
        {
          "name": "stdout",
          "output_type": "stream",
          "text": [
            "5\n",
            "30\n"
          ]
        }
      ],
      "source": [
        "n = int(input())\n",
        "op = [0]\n",
        "for i in range(1,n+1):\n",
        "  # op = []\n",
        "  # op.append(x)\n",
        "  y = op[-1] + 2*i\n",
        "  op.append(y)\n",
        "print(op[-1])"
      ]
    },
    {
      "cell_type": "markdown",
      "metadata": {
        "id": "dREIytr1Vzx_"
      },
      "source": [
        "You are given given task is to print whether array is ‘majestic’ or not.A ‘majsetic’ array is an array whose sum of first three number is equal to last three number.\n",
        "\n",
        "Input Description:\n",
        "You are given a number ‘n’,Next line contains ‘n’ space separated\n",
        "\n",
        "Output Description:\n",
        "Print 1 if array is majestic and 0 if it is not\n",
        "\n",
        "Sample Input :\n",
        "7\n",
        "1 2 3 4 6 0 0\n",
        "Sample Output :\n",
        "1"
      ]
    },
    {
      "cell_type": "code",
      "execution_count": 42,
      "metadata": {
        "colab": {
          "base_uri": "https://localhost:8080/"
        },
        "id": "OcV9C3BLV0nR",
        "outputId": "725d68e0-9734-46a0-a199-80002e3708da"
      },
      "outputs": [
        {
          "name": "stdout",
          "output_type": "stream",
          "text": [
            "7\n",
            "1 2 3 4 6 0 0\n",
            "1\n"
          ]
        }
      ],
      "source": [
        "n = int(input())\n",
        "N = input()\n",
        "N = [int(i) for i in N.split(' ')]\n",
        "first_sum = 0\n",
        "for i in range(0,n//2):\n",
        "  first_sum+= N[i]\n",
        "second_sum = 0\n",
        "for i in range((n//2)+1,n):\n",
        "  second_sum += N[i]\n",
        "\n",
        "if first_sum == second_sum:\n",
        "  print(1)\n",
        "else:\n",
        "  print(0)"
      ]
    },
    {
      "cell_type": "markdown",
      "metadata": {},
      "source": [
        "Given a number N, print the sum of squares of all its digits.\n",
        "Input Size : 1 <= N <= 100000\n",
        "Sample Testcase :\n",
        "INPUT\n",
        "12\n",
        "OUTPUT\n",
        "5"
      ]
    },
    {
      "cell_type": "code",
      "execution_count": 1,
      "metadata": {},
      "outputs": [
        {
          "name": "stdout",
          "output_type": "stream",
          "text": [
            "[2, 3]\n"
          ]
        }
      ],
      "source": [
        "N = input()\n",
        "N = [int(i) for i in N]\n",
        "sum = 0\n",
        "for i in N:\n",
        "    sum += i**2\n",
        "\n",
        "print(sum)\n"
      ]
    },
    {
      "cell_type": "markdown",
      "metadata": {},
      "source": [
        "A stiff number is a number which can only be formed by sum of two number which are co prime. You are given with a number (n). Write a programme to determine whether a number is stiff or not\n",
        "\n",
        "Input Description:\n",
        "You are given a number n\n",
        "\n",
        "Output Description:\n",
        "Print Stiff or not stiff\n",
        "\n",
        "Sample Input :\n",
        "9\n",
        "Sample Output :\n",
        "Stiff"
      ]
    },
    {
      "cell_type": "code",
      "execution_count": null,
      "metadata": {},
      "outputs": [],
      "source": [
        "n = int(input())\n",
        "def gcd(p,q):\n",
        "# Create the gcd of two positive integers.\n",
        "    while q != 0:\n",
        "        p, q = q, p%q\n",
        "    return p\n",
        "def is_coprime(x, y):\n",
        "    return gcd(x, y) == 1\n",
        "\n",
        "while True:\n",
        "    \n",
        "\n"
      ]
    }
  ],
  "metadata": {
    "colab": {
      "provenance": []
    },
    "kernelspec": {
      "display_name": "Python 3.10.6 64-bit",
      "language": "python",
      "name": "python3"
    },
    "language_info": {
      "codemirror_mode": {
        "name": "ipython",
        "version": 3
      },
      "file_extension": ".py",
      "mimetype": "text/x-python",
      "name": "python",
      "nbconvert_exporter": "python",
      "pygments_lexer": "ipython3",
      "version": "3.10.6"
    },
    "orig_nbformat": 4,
    "vscode": {
      "interpreter": {
        "hash": "e276a94ab97a9efae7bdcfa9e1dc61b2f6097e65aabcec1a6ce84efca64eb96b"
      }
    }
  },
  "nbformat": 4,
  "nbformat_minor": 0
}

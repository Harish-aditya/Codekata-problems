{
 "cells": [
  {
   "cell_type": "markdown",
   "metadata": {},
   "source": [
    "You are given with an circular array .Your task is calculate the difference between two consecutive number. And if difference is greater than ‘k’, print 1 else print 0\n",
    "\n",
    "Input Description:\n",
    "You are given two numbers ‘n’, ’m’. Next line contains n space separated integers.\n",
    "\n",
    "Output Description:\n",
    "Print 1 if the difference is greater than ‘m’.\n",
    "\n",
    "Sample Input :\n",
    "5 15\n",
    "50 65 85 98 35\n",
    "Sample Output :\n",
    "0 1 0 1 0"
   ]
  },
  {
   "cell_type": "code",
   "execution_count": 1,
   "metadata": {},
   "outputs": [],
   "source": [
    "import numpy as np"
   ]
  },
  {
   "cell_type": "code",
   "execution_count": 7,
   "metadata": {},
   "outputs": [],
   "source": [
    "x = input()\n",
    "y = input()\n",
    "x = [int(i) for i in x.split(' ')]\n",
    "y = [int(i) for i in y.split(' ')]"
   ]
  },
  {
   "cell_type": "code",
   "execution_count": 24,
   "metadata": {},
   "outputs": [
    {
     "data": {
      "text/plain": [
       "2"
      ]
     },
     "execution_count": 24,
     "metadata": {},
     "output_type": "execute_result"
    }
   ],
   "source": [
    "len(x)"
   ]
  },
  {
   "cell_type": "code",
   "execution_count": 21,
   "metadata": {},
   "outputs": [],
   "source": [
    "def array_dif(a,b):\n",
    "    Total_numbers = a[0]\n",
    "    if Total_numbers != len(y):\n",
    "        print('Enter the total number:')\n",
    "    else: \n",
    "        pass\n",
    "    difference = a[1]\n",
    "    y_array = b\n",
    "    op_array = []\n",
    "    for i in range(len(y_array)):\n",
    "        if y_array[i+1]-y_array[i] == difference:\n",
    "            op_array = op_array.append(1)\n",
    "        else:\n",
    "            op_array = op_array.append(0)\n",
    "    return op_array\n",
    "\n"
   ]
  },
  {
   "cell_type": "code",
   "execution_count": 22,
   "metadata": {},
   "outputs": [
    {
     "ename": "IndexError",
     "evalue": "list index out of range",
     "output_type": "error",
     "traceback": [
      "\u001b[1;31m---------------------------------------------------------------------------\u001b[0m",
      "\u001b[1;31mIndexError\u001b[0m                                Traceback (most recent call last)",
      "\u001b[1;32mg:\\Codekata\\codekata.ipynb Cell 5\u001b[0m in \u001b[0;36m<cell line: 1>\u001b[1;34m()\u001b[0m\n\u001b[1;32m----> <a href='vscode-notebook-cell:/g%3A/Codekata/codekata.ipynb#W5sZmlsZQ%3D%3D?line=0'>1</a>\u001b[0m array_dif(x,y)\n",
      "\u001b[1;32mg:\\Codekata\\codekata.ipynb Cell 5\u001b[0m in \u001b[0;36marray_dif\u001b[1;34m(a, b)\u001b[0m\n\u001b[0;32m      <a href='vscode-notebook-cell:/g%3A/Codekata/codekata.ipynb#W5sZmlsZQ%3D%3D?line=8'>9</a>\u001b[0m op_array \u001b[39m=\u001b[39m []\n\u001b[0;32m     <a href='vscode-notebook-cell:/g%3A/Codekata/codekata.ipynb#W5sZmlsZQ%3D%3D?line=9'>10</a>\u001b[0m \u001b[39mfor\u001b[39;00m i \u001b[39min\u001b[39;00m \u001b[39mrange\u001b[39m(\u001b[39mlen\u001b[39m(y_array)):\n\u001b[1;32m---> <a href='vscode-notebook-cell:/g%3A/Codekata/codekata.ipynb#W5sZmlsZQ%3D%3D?line=10'>11</a>\u001b[0m     \u001b[39mif\u001b[39;00m y_array[i\u001b[39m+\u001b[39;49m\u001b[39m1\u001b[39;49m]\u001b[39m-\u001b[39my_array[i] \u001b[39m==\u001b[39m difference:\n\u001b[0;32m     <a href='vscode-notebook-cell:/g%3A/Codekata/codekata.ipynb#W5sZmlsZQ%3D%3D?line=11'>12</a>\u001b[0m         op_array \u001b[39m=\u001b[39m op_array\u001b[39m.\u001b[39mappend(\u001b[39m1\u001b[39m)\n\u001b[0;32m     <a href='vscode-notebook-cell:/g%3A/Codekata/codekata.ipynb#W5sZmlsZQ%3D%3D?line=12'>13</a>\u001b[0m     \u001b[39melse\u001b[39;00m:\n",
      "\u001b[1;31mIndexError\u001b[0m: list index out of range"
     ]
    }
   ],
   "source": [
    "array_dif(x,y)"
   ]
  },
  {
   "cell_type": "code",
   "execution_count": 10,
   "metadata": {},
   "outputs": [
    {
     "ename": "TypeError",
     "evalue": "'builtin_function_or_method' object is not subscriptable",
     "output_type": "error",
     "traceback": [
      "\u001b[1;31m---------------------------------------------------------------------------\u001b[0m",
      "\u001b[1;31mTypeError\u001b[0m                                 Traceback (most recent call last)",
      "\u001b[1;32mg:\\Codekata\\codekata.ipynb Cell 5\u001b[0m in \u001b[0;36m<cell line: 1>\u001b[1;34m()\u001b[0m\n\u001b[1;32m----> <a href='vscode-notebook-cell:/g%3A/Codekata/codekata.ipynb#W4sZmlsZQ%3D%3D?line=0'>1</a>\u001b[0m array_dif(x,y)\n",
      "\u001b[1;32mg:\\Codekata\\codekata.ipynb Cell 5\u001b[0m in \u001b[0;36marray_dif\u001b[1;34m(a, b)\u001b[0m\n\u001b[0;32m     <a href='vscode-notebook-cell:/g%3A/Codekata/codekata.ipynb#W4sZmlsZQ%3D%3D?line=9'>10</a>\u001b[0m \u001b[39mfor\u001b[39;00m i \u001b[39min\u001b[39;00m \u001b[39mrange\u001b[39m(\u001b[39mlen\u001b[39m(y_array)):\n\u001b[0;32m     <a href='vscode-notebook-cell:/g%3A/Codekata/codekata.ipynb#W4sZmlsZQ%3D%3D?line=10'>11</a>\u001b[0m     \u001b[39mif\u001b[39;00m y_array[i\u001b[39m+\u001b[39m\u001b[39m1\u001b[39m]\u001b[39m-\u001b[39my_array[i] \u001b[39m==\u001b[39m difference:\n\u001b[1;32m---> <a href='vscode-notebook-cell:/g%3A/Codekata/codekata.ipynb#W4sZmlsZQ%3D%3D?line=11'>12</a>\u001b[0m         op_array\u001b[39m.\u001b[39;49mappend[\u001b[39m1\u001b[39;49m]\n\u001b[0;32m     <a href='vscode-notebook-cell:/g%3A/Codekata/codekata.ipynb#W4sZmlsZQ%3D%3D?line=12'>13</a>\u001b[0m     \u001b[39melse\u001b[39;00m:\n\u001b[0;32m     <a href='vscode-notebook-cell:/g%3A/Codekata/codekata.ipynb#W4sZmlsZQ%3D%3D?line=13'>14</a>\u001b[0m         op_array\u001b[39m.\u001b[39mappend[\u001b[39m0\u001b[39m]\n",
      "\u001b[1;31mTypeError\u001b[0m: 'builtin_function_or_method' object is not subscriptable"
     ]
    }
   ],
   "source": [
    "Total_numbers = x[0]\n",
    "if Total_numbers != len(y):\n",
    "    print('Enter the total number:')\n",
    "else: \n",
    "    pass\n",
    "difference = x[1]\n",
    "y_array = np.array(y)\n",
    "op_array = []\n",
    "for i in range(len(y_array)):\n",
    "    if y_array[i+1]-y_array[i] == difference:\n",
    "        op_array.append[1]\n",
    "    else:\n",
    "        op_array.append[0]"
   ]
  }
 ],
 "metadata": {
  "kernelspec": {
   "display_name": "Python 3.10.6 64-bit",
   "language": "python",
   "name": "python3"
  },
  "language_info": {
   "codemirror_mode": {
    "name": "ipython",
    "version": 3
   },
   "file_extension": ".py",
   "mimetype": "text/x-python",
   "name": "python",
   "nbconvert_exporter": "python",
   "pygments_lexer": "ipython3",
   "version": "3.10.6"
  },
  "orig_nbformat": 4,
  "vscode": {
   "interpreter": {
    "hash": "e276a94ab97a9efae7bdcfa9e1dc61b2f6097e65aabcec1a6ce84efca64eb96b"
   }
  }
 },
 "nbformat": 4,
 "nbformat_minor": 2
}

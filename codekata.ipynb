{
 "cells": [
  {
   "cell_type": "markdown",
   "metadata": {},
   "source": [
    "You are given with an circular array .Your task is calculate the difference between two consecutive number. And if difference is greater than ‘k’, print 1 else print 0\n",
    "\n",
    "Input Description:\n",
    "You are given two numbers ‘n’, ’m’. Next line contains n space separated integers.\n",
    "\n",
    "Output Description:\n",
    "Print 1 if the difference is greater than ‘m’.\n",
    "\n",
    "Sample Input :\n",
    "5 15\n",
    "50 65 85 98 35\n",
    "Sample Output :\n",
    "0 1 0 1 0"
   ]
  },
  {
   "cell_type": "code",
   "execution_count": 1,
   "metadata": {},
   "outputs": [],
   "source": [
    "import numpy as np"
   ]
  },
  {
   "cell_type": "code",
   "execution_count": 7,
   "metadata": {},
   "outputs": [],
   "source": [
    "x = input()\n",
    "y = input()\n",
    "x = [int(i) for i in x.split(' ')]\n",
    "y = [int(i) for i in y.split(' ')]"
   ]
  },
  {
   "cell_type": "code",
   "execution_count": 24,
   "metadata": {},
   "outputs": [
    {
     "data": {
      "text/plain": [
       "2"
      ]
     },
     "execution_count": 24,
     "metadata": {},
     "output_type": "execute_result"
    }
   ],
   "source": [
    "len(x)"
   ]
  },
  {
   "cell_type": "code",
   "execution_count": 21,
   "metadata": {},
   "outputs": [],
   "source": [
    "def array_dif(a,b):\n",
    "    Total_numbers = a[0]\n",
    "    if Total_numbers != len(y):\n",
    "        print('Enter the total number:')\n",
    "    else: \n",
    "        pass\n",
    "    difference = a[1]\n",
    "    y_array = b\n",
    "    op_array = []\n",
    "    for i in range(len(y_array)):\n",
    "        if y_array[i+1]-y_array[i] == difference:\n",
    "            op_array = op_array.append(1)\n",
    "        else:\n",
    "            op_array = op_array.append(0)\n",
    "    return op_array\n",
    "\n"
   ]
  },
  {
   "cell_type": "code",
   "execution_count": 22,
   "metadata": {},
   "outputs": [
    {
     "ename": "IndexError",
     "evalue": "list index out of range",
     "output_type": "error",
     "traceback": [
      "\u001b[1;31m---------------------------------------------------------------------------\u001b[0m",
      "\u001b[1;31mIndexError\u001b[0m                                Traceback (most recent call last)",
      "\u001b[1;32mg:\\Codekata\\codekata.ipynb Cell 5\u001b[0m in \u001b[0;36m<cell line: 1>\u001b[1;34m()\u001b[0m\n\u001b[1;32m----> <a href='vscode-notebook-cell:/g%3A/Codekata/codekata.ipynb#W5sZmlsZQ%3D%3D?line=0'>1</a>\u001b[0m array_dif(x,y)\n",
      "\u001b[1;32mg:\\Codekata\\codekata.ipynb Cell 5\u001b[0m in \u001b[0;36marray_dif\u001b[1;34m(a, b)\u001b[0m\n\u001b[0;32m      <a href='vscode-notebook-cell:/g%3A/Codekata/codekata.ipynb#W5sZmlsZQ%3D%3D?line=8'>9</a>\u001b[0m op_array \u001b[39m=\u001b[39m []\n\u001b[0;32m     <a href='vscode-notebook-cell:/g%3A/Codekata/codekata.ipynb#W5sZmlsZQ%3D%3D?line=9'>10</a>\u001b[0m \u001b[39mfor\u001b[39;00m i \u001b[39min\u001b[39;00m \u001b[39mrange\u001b[39m(\u001b[39mlen\u001b[39m(y_array)):\n\u001b[1;32m---> <a href='vscode-notebook-cell:/g%3A/Codekata/codekata.ipynb#W5sZmlsZQ%3D%3D?line=10'>11</a>\u001b[0m     \u001b[39mif\u001b[39;00m y_array[i\u001b[39m+\u001b[39;49m\u001b[39m1\u001b[39;49m]\u001b[39m-\u001b[39my_array[i] \u001b[39m==\u001b[39m difference:\n\u001b[0;32m     <a href='vscode-notebook-cell:/g%3A/Codekata/codekata.ipynb#W5sZmlsZQ%3D%3D?line=11'>12</a>\u001b[0m         op_array \u001b[39m=\u001b[39m op_array\u001b[39m.\u001b[39mappend(\u001b[39m1\u001b[39m)\n\u001b[0;32m     <a href='vscode-notebook-cell:/g%3A/Codekata/codekata.ipynb#W5sZmlsZQ%3D%3D?line=12'>13</a>\u001b[0m     \u001b[39melse\u001b[39;00m:\n",
      "\u001b[1;31mIndexError\u001b[0m: list index out of range"
     ]
    }
   ],
   "source": [
    "array_dif(x,y)"
   ]
  },
  {
   "cell_type": "code",
   "execution_count": 10,
   "metadata": {},
   "outputs": [
    {
     "ename": "TypeError",
     "evalue": "'builtin_function_or_method' object is not subscriptable",
     "output_type": "error",
     "traceback": [
      "\u001b[1;31m---------------------------------------------------------------------------\u001b[0m",
      "\u001b[1;31mTypeError\u001b[0m                                 Traceback (most recent call last)",
      "\u001b[1;32mg:\\Codekata\\codekata.ipynb Cell 5\u001b[0m in \u001b[0;36m<cell line: 1>\u001b[1;34m()\u001b[0m\n\u001b[1;32m----> <a href='vscode-notebook-cell:/g%3A/Codekata/codekata.ipynb#W4sZmlsZQ%3D%3D?line=0'>1</a>\u001b[0m array_dif(x,y)\n",
      "\u001b[1;32mg:\\Codekata\\codekata.ipynb Cell 5\u001b[0m in \u001b[0;36marray_dif\u001b[1;34m(a, b)\u001b[0m\n\u001b[0;32m     <a href='vscode-notebook-cell:/g%3A/Codekata/codekata.ipynb#W4sZmlsZQ%3D%3D?line=9'>10</a>\u001b[0m \u001b[39mfor\u001b[39;00m i \u001b[39min\u001b[39;00m \u001b[39mrange\u001b[39m(\u001b[39mlen\u001b[39m(y_array)):\n\u001b[0;32m     <a href='vscode-notebook-cell:/g%3A/Codekata/codekata.ipynb#W4sZmlsZQ%3D%3D?line=10'>11</a>\u001b[0m     \u001b[39mif\u001b[39;00m y_array[i\u001b[39m+\u001b[39m\u001b[39m1\u001b[39m]\u001b[39m-\u001b[39my_array[i] \u001b[39m==\u001b[39m difference:\n\u001b[1;32m---> <a href='vscode-notebook-cell:/g%3A/Codekata/codekata.ipynb#W4sZmlsZQ%3D%3D?line=11'>12</a>\u001b[0m         op_array\u001b[39m.\u001b[39;49mappend[\u001b[39m1\u001b[39;49m]\n\u001b[0;32m     <a href='vscode-notebook-cell:/g%3A/Codekata/codekata.ipynb#W4sZmlsZQ%3D%3D?line=12'>13</a>\u001b[0m     \u001b[39melse\u001b[39;00m:\n\u001b[0;32m     <a href='vscode-notebook-cell:/g%3A/Codekata/codekata.ipynb#W4sZmlsZQ%3D%3D?line=13'>14</a>\u001b[0m         op_array\u001b[39m.\u001b[39mappend[\u001b[39m0\u001b[39m]\n",
      "\u001b[1;31mTypeError\u001b[0m: 'builtin_function_or_method' object is not subscriptable"
     ]
    }
   ],
   "source": [
    "Total_numbers = x[0]\n",
    "if Total_numbers != len(y):\n",
    "    print('Enter the total number:')\n",
    "else: \n",
    "    pass\n",
    "difference = x[1]\n",
    "y_array = np.array(y)\n",
    "op_array = []\n",
    "for i in range(len(y_array)):\n",
    "    if y_array[i+1]-y_array[i] == difference:\n",
    "        op_array.append[1]\n",
    "    else:\n",
    "        op_array.append[0]"
   ]
  },
  {
   "cell_type": "markdown",
   "metadata": {},
   "source": [
    "Given a number N, print 'yes' if it is composite else print 'no'.\n",
    "Sample Testcase :\n",
    "INPUT\n",
    "123\n",
    "OUTPUT\n",
    "yes"
   ]
  },
  {
   "cell_type": "code",
   "execution_count": 25,
   "metadata": {},
   "outputs": [
    {
     "name": "stdout",
     "output_type": "stream",
     "text": [
      "yes\n"
     ]
    }
   ],
   "source": [
    "num=int(input())\n",
    "count=0\n",
    "for a in range(2,num):\n",
    "    if num%a==0:\n",
    "        count+=1\n",
    "if count>1:\n",
    "    print(\"yes\")\n",
    "else:\n",
    "    print('no')"
   ]
  },
  {
   "cell_type": "markdown",
   "metadata": {},
   "source": [
    "Given 2 numbers N and M add both the numbers and check whether the sum is odd or even.\n",
    "Sample Testcase :\n",
    "INPUT\n",
    "9 2\n",
    "OUTPUT\n",
    "odd"
   ]
  },
  {
   "cell_type": "code",
   "execution_count": 26,
   "metadata": {},
   "outputs": [
    {
     "name": "stdout",
     "output_type": "stream",
     "text": [
      "odd\n"
     ]
    }
   ],
   "source": [
    "x = input()\n",
    "x = [int(i) for i in x.split(' ')]\n",
    "y = x[0]+x[1]\n",
    "if y%2 == 0:\n",
    "    print('even')\n",
    "else:\n",
    "    print('odd')"
   ]
  },
  {
   "cell_type": "markdown",
   "metadata": {},
   "source": [
    "Given 3 numbers A,B,C process and print 'yes' if they can form the sides of a triangle otherwise print 'no'.\n",
    "Input Size : A,B,C <= 100000\n",
    "Sample Testcase :\n",
    "INPUT\n",
    "3 4 5\n",
    "OUTPUT\n",
    "yes"
   ]
  },
  {
   "cell_type": "code",
   "execution_count": 27,
   "metadata": {},
   "outputs": [
    {
     "name": "stdout",
     "output_type": "stream",
     "text": [
      "yes\n"
     ]
    }
   ],
   "source": [
    "x = input()\n",
    "x = [int(i) for i in x.split(' ')]\n",
    "s1 = x[0]\n",
    "s2 = x[1]\n",
    "s3 = x[2]\n",
    "if s1+s2 > s3 and s2+s3 > s1 and s3+s1 >s2:\n",
    "    print('yes') \n",
    "else:\n",
    "    print('no')"
   ]
  },
  {
   "cell_type": "markdown",
   "metadata": {},
   "source": [
    "Given an array of N elements switch(swap) the element with the adjacent element and print the output.\n",
    "Sample Testcase :\n",
    "INPUT\n",
    "5\n",
    "3 2 1 2 3\n",
    "OUTPUT\n",
    "2 3 2 1 3"
   ]
  },
  {
   "cell_type": "code",
   "execution_count": null,
   "metadata": {},
   "outputs": [],
   "source": []
  },
  {
   "cell_type": "markdown",
   "metadata": {},
   "source": [
    "Given 3 numbers N , L and R. Print 'yes' if N is between L and R else print 'no'.\n",
    "Sample Testcase :\n",
    "INPUT\n",
    "3\n",
    "2 6\n",
    "OUTPUT\n",
    "yes"
   ]
  },
  {
   "cell_type": "code",
   "execution_count": 28,
   "metadata": {},
   "outputs": [
    {
     "name": "stdout",
     "output_type": "stream",
     "text": [
      "yes\n"
     ]
    }
   ],
   "source": [
    "x = int(input())\n",
    "y = input()\n",
    "y = [int(i) for i in y.split(' ')]\n",
    "L,R = y[0],y[1]\n",
    "if L< x < R:\n",
    "    print('yes')\n",
    "else:\n",
    "    print('no')"
   ]
  },
  {
   "cell_type": "markdown",
   "metadata": {},
   "source": [
    "Given 3 numbers A,B,C print 'yes' if they can form the sides of a right angled triangle,otherwise 'no'.\n",
    "Input Size : A,B,C <= 100000\n",
    "Sample Testcase :\n",
    "INPUT\n",
    "3 4 5\n",
    "OUTPUT\n",
    "yes"
   ]
  },
  {
   "cell_type": "code",
   "execution_count": 36,
   "metadata": {},
   "outputs": [
    {
     "name": "stdout",
     "output_type": "stream",
     "text": [
      "yes\n"
     ]
    }
   ],
   "source": [
    "x = input()\n",
    "x = [int(i) for i in x.split(' ')]\n",
    "s1 = min(x)\n",
    "s3 = max(x)\n",
    "for i in x:\n",
    "    if i != s1 and i!= s3:\n",
    "        s2 = i\n",
    "    else:\n",
    "        pass\n",
    "# s2 = x.pop()\n",
    "if s1**2+s2**2==s3**2:\n",
    "    print('yes') \n",
    "else:\n",
    "    print('no')"
   ]
  },
  {
   "cell_type": "markdown",
   "metadata": {},
   "source": [
    "Kabali is a brave warrior who with his group of young ninjas moves from one place to another to fight against his opponents. Before Fighting he just calculates one thing, the difference between his ninja number and the opponent's ninja number. From this difference he decides whether to fight or not. Kabali's ninja number is never greater than his opponent.\n",
    "Input\n",
    "The input contains two numbers in every line. These two numbers in each line denotes the number ninjas in Kabali's clan and his opponent's clan . print the absolute difference of number of ninjas between Kabali's clan and his opponent's clan. Each output should be in seperate line.\n",
    "Sample Testcase :\n",
    "INPUT\n",
    "100 200\n",
    "OUTPUT\n",
    "100"
   ]
  },
  {
   "cell_type": "code",
   "execution_count": 1,
   "metadata": {},
   "outputs": [
    {
     "name": "stdout",
     "output_type": "stream",
     "text": [
      "100\n"
     ]
    }
   ],
   "source": [
    "n = input()\n",
    "n = [int(i) for i in n.split(' ')]\n",
    "\n",
    "print(abs(n[0] - n[1]))"
   ]
  },
  {
   "cell_type": "markdown",
   "metadata": {},
   "source": [
    "Given 2 numbers N,M find the GCD of N and M.If it cannot be found for given number(s) then print -1\n",
    "Sample Testcase :\n",
    "INPUT\n",
    "10 5\n",
    "OUTPUT\n",
    "5"
   ]
  },
  {
   "cell_type": "code",
   "execution_count": 3,
   "metadata": {},
   "outputs": [
    {
     "name": "stdout",
     "output_type": "stream",
     "text": [
      "1\n"
     ]
    }
   ],
   "source": [
    "n = input()\n",
    "n = [int(i) for i in n.split(' ')]\n",
    "s1 = min(n)\n",
    "s2 = max(n)\n",
    "import math\n",
    "print(math.gcd(s1, s2))"
   ]
  },
  {
   "cell_type": "code",
   "execution_count": 1,
   "metadata": {},
   "outputs": [
    {
     "name": "stdout",
     "output_type": "stream",
     "text": [
      "Text : ATTACKATONCE\n",
      "Shift : 4\n",
      "Cipher: EXXEGOEXSRGI\n"
     ]
    }
   ],
   "source": [
    "#A python program to illustrate Caesar Cipher Technique\n",
    "def encrypt(text,s):\n",
    "\tresult = \"\"\n",
    "\n",
    "\t# traverse text\n",
    "\tfor i in range(len(text)):\n",
    "\t\tchar = text[i]\n",
    "\n",
    "\t\t# Encrypt uppercase characters\n",
    "\t\tif (char.isupper()):\n",
    "\t\t\tresult += chr((ord(char) + s-65) % 26 + 65)\n",
    "\n",
    "\t\t# Encrypt lowercase characters\n",
    "\t\telse:\n",
    "\t\t\tresult += chr((ord(char) + s - 97) % 26 + 97)\n",
    "\n",
    "\treturn result\n",
    "\n",
    "#check the above function\n",
    "text = \"ATTACKATONCE\"\n",
    "s = 4\n",
    "print (\"Text : \" + text)\n",
    "print (\"Shift : \" + str(s))\n",
    "print (\"Cipher: \" + encrypt(text,s))\n"
   ]
  },
  {
   "cell_type": "markdown",
   "metadata": {},
   "source": [
    " Jennyfer is fond of strings. She wants to read the character from right to left (reverse the string), so she wants you to design a suitable algorithm which satisfy her desire.\n",
    "\n",
    "Input Description:\n",
    "Enter the string ‘s’\n",
    "\n",
    "Output Description:\n",
    "Print the string from characters right to left.\n",
    "\n",
    "Sample Input :\n",
    "jennyfer\n",
    "Sample Output :\n",
    "Refynnej"
   ]
  },
  {
   "cell_type": "code",
   "execution_count": 4,
   "metadata": {},
   "outputs": [
    {
     "name": "stdout",
     "output_type": "stream",
     "text": [
      "Jnnfr"
     ]
    }
   ],
   "source": [
    "s = input()\n",
    "vowels = ['a','e','i','o','u']\n",
    "s = [i for i in s]\n",
    "# print(s)\n",
    "\n",
    "for i in range(len(s)):\n",
    "    if s[i].lower() in vowels:\n",
    "        pass\n",
    "    else:\n",
    "        print(s[i], end=\"\")"
   ]
  },
  {
   "cell_type": "markdown",
   "metadata": {},
   "source": [
    "Write a program to get a string S, Type of conversion (1 - Convert to Lowercase, 2 - Convert to Uppercase) T, and integer P . Convert the case of the letters in the positions which are multiples of P.(1 based indexing).\n",
    "\n",
    "Input Description:\n",
    "Given a string S, Type of conversion T, and integer P\n",
    "\n",
    "Output Description:\n",
    "Convert the case of the letters and print the string\n",
    "\n",
    "Sample Input :\n",
    "ProFiLe\n",
    "1\n",
    "2\n",
    "Sample Output :\n",
    "Profile"
   ]
  },
  {
   "cell_type": "code",
   "execution_count": 33,
   "metadata": {},
   "outputs": [
    {
     "name": "stdout",
     "output_type": "stream",
     "text": [
      "PROFILE\n",
      "PrOfIlE"
     ]
    }
   ],
   "source": [
    "s = input()\n",
    "s = [i for i in s]\n",
    "t = int(input())\n",
    "p = int(input())\n",
    "\n",
    "for i in range(len(s)):\n",
    "    i = i+1\n",
    "    # print(i)\n",
    "    if i%p == 0 and t == 1:\n",
    "        s[i-1] = s[i-1].lower()\n",
    "    elif i%p == 0 and t == 2:\n",
    "        s[i-1] = s[i-1].upper()\n",
    "    print(s[i-1],end = '')\n",
    "\n"
   ]
  },
  {
   "cell_type": "markdown",
   "metadata": {},
   "source": [
    "Joyal was given a sentence. His task is to delete the two words that comes together and print the sentence so that the words in the output sentence have distinct words compared to their adjacent words. If no words are present in the output sentence print -1\n",
    "\n",
    "Input Description:\n",
    "You are given input string 'S'\n",
    "\n",
    "Output Description:\n",
    "Print the all the words that are left in the string 's' so that the words in the output sentence have distinct words compared to their adjacent words. Print -1 if no words are left\n",
    "\n",
    "Sample Input :\n",
    "I am john cena cena john\n",
    "Sample Output :\n",
    "I am"
   ]
  },
  {
   "cell_type": "code",
   "execution_count": 35,
   "metadata": {},
   "outputs": [
    {
     "name": "stdout",
     "output_type": "stream",
     "text": [
      "['we', 'love', 'we', 'love']\n"
     ]
    }
   ],
   "source": [
    "s = input()\n",
    "s = s.split(\" \")\n",
    "print(s)\n",
    "arr = []\n",
    "for i in range(len(s)):\n",
    "    if s[i] not in arr:\n",
    "        arr.append(s[i])\n",
    "        if i > 0:\n",
    "            if arr[i] == arr[i - 1]:\n",
    "                arr.remove(arr[i])\n",
    "    else:\n",
    "        arr.remove(s[i])\n",
    "\n",
    "print(' '.join(map(str, arr)))"
   ]
  },
  {
   "cell_type": "markdown",
   "metadata": {},
   "source": [
    "You are given with a string which comprises of some numbers. Your task is to find the largest integer by converting the string to the corresponding integer.\n",
    "\n",
    "Input Description:\n",
    "First line contains n denoting number of Test Cases. The first and only Line of testcase has the string\n",
    "\n",
    "Output Description:\n",
    "Print the largest number\n",
    "\n",
    "Sample Input :\n",
    " I was born on 12 october 1998.\n",
    "Sample Output :\n",
    "1998"
   ]
  },
  {
   "cell_type": "code",
   "execution_count": 46,
   "metadata": {},
   "outputs": [
    {
     "name": "stdout",
     "output_type": "stream",
     "text": [
      "98\n"
     ]
    }
   ],
   "source": [
    "s = input()\n",
    "# s = [i for i in s]\n",
    "s = s.split(' ')\n",
    "# print(s)\n",
    "arr = []\n",
    "\n",
    "for i in range(len(s)):\n",
    "    if s[i].isnumeric():\n",
    "        arr.append(int(s[i]))\n",
    "    elif '.' in s[i] and s[i][:-1].isnumeric() :\n",
    "        arr.append(int(s[i][:-1]))\n",
    "# print(arr)\n",
    "print(max(arr))"
   ]
  },
  {
   "cell_type": "code",
   "execution_count": 38,
   "metadata": {},
   "outputs": [
    {
     "data": {
      "text/plain": [
       "False"
      ]
     },
     "execution_count": 38,
     "metadata": {},
     "output_type": "execute_result"
    }
   ],
   "source": [
    "x = '.'\n",
    "x.isnumeric()"
   ]
  },
  {
   "cell_type": "markdown",
   "metadata": {},
   "source": [
    "Given a string 'S' swap the even and odd characters starting from index 1(Assume the index starts from 0).\n",
    "Input Size : |s| <= 10000000(complexity O(n))\n",
    "Sample Testcase :\n",
    "INPUT\n",
    "codekata\n",
    "OUTPUT\n",
    "ocedakat"
   ]
  },
  {
   "cell_type": "code",
   "execution_count": 40,
   "metadata": {},
   "outputs": [
    {
     "name": "stdout",
     "output_type": "stream",
     "text": [
      "['p', 'r', 'i', 'f']\n",
      "['r', 'p', 'f', 'i']\n",
      "rpfi"
     ]
    }
   ],
   "source": [
    "from heapq import merge\n",
    "\n",
    "\n",
    "s = input()\n",
    "s = [i for i in s]\n",
    "print(s)\n",
    "p =[]\n",
    "q = []\n",
    "for i in range(len(s)):\n",
    "    if i%2 == 0:\n",
    "        p.append(s[i])\n",
    "    else:\n",
    "        q.append(s[i])\n",
    "\n",
    "op = [item for sublist in zip(q, p) for item in sublist]\n",
    "print(op)\n",
    "# for i in range(len(p)):\n",
    "#     if len(p)%2==0:\n",
    "#         op.append(q[i])\n",
    "#         op.append(p[i])\n",
    "#     else:\n",
    "#         pass\n",
    "for i in range(len(op)):\n",
    "    print(op[i],end='')\n"
   ]
  },
  {
   "cell_type": "markdown",
   "metadata": {},
   "source": [
    "Given a string S consisting of 2 words reverse the order of two words .\n",
    "Input Size : |S| <= 10000000\n",
    "Sample Testcase :\n",
    "INPUT\n",
    "hello world\n",
    "OUTPUT\n",
    "world hello"
   ]
  },
  {
   "cell_type": "code",
   "execution_count": 49,
   "metadata": {},
   "outputs": [
    {
     "name": "stdout",
     "output_type": "stream",
     "text": [
      "['hello', 'world']\n",
      "world hello\n"
     ]
    }
   ],
   "source": [
    "n = input()\n",
    "n = [i for i in n.split(' ')]\n",
    "print(n)\n",
    "n.reverse()\n",
    "\n",
    "print(' '.join(n))"
   ]
  },
  {
   "cell_type": "markdown",
   "metadata": {},
   "source": [
    "Given a number N followed by N numbers.Find the smallest number and largest number and print both the indices(1 based indexing).\n",
    "Input Size : N <= 100000\n",
    "Sample Testcase :\n",
    "INPUT\n",
    "5\n",
    "1 2 3 4 5\n",
    "OUTPUT\n",
    "1 5"
   ]
  },
  {
   "cell_type": "code",
   "execution_count": 52,
   "metadata": {},
   "outputs": [
    {
     "name": "stdout",
     "output_type": "stream",
     "text": [
      "5\n"
     ]
    }
   ],
   "source": [
    "n = int(input())\n",
    "p = input()\n",
    "p = [int(i) for i in p.split(' ')]\n",
    "m1 = max(p)\n",
    "m2 = min(p)\n",
    "print(p.index(m2)+1,p.index(m1)+1)"
   ]
  },
  {
   "cell_type": "markdown",
   "metadata": {},
   "source": [
    "In a firm there is an intelligent employee. He said that he will not work on all those days which has factors more than 2. You are given with month and year calculate the no of working days of employee.\n",
    "\n",
    "Input Description:\n",
    "Month(M) and year(Y)\n",
    "\n",
    "Output Description:\n",
    "N denoting no of working days\n",
    "\n",
    "Sample Input :\n",
    "May 2016\n",
    "Sample Output :\n",
    "11"
   ]
  },
  {
   "cell_type": "code",
   "execution_count": null,
   "metadata": {},
   "outputs": [],
   "source": [
    "    fcsdg"
   ]
  }
 ],
 "metadata": {
  "kernelspec": {
   "display_name": "Python 3.10.6 64-bit",
   "language": "python",
   "name": "python3"
  },
  "language_info": {
   "codemirror_mode": {
    "name": "ipython",
    "version": 3
   },
   "file_extension": ".py",
   "mimetype": "text/x-python",
   "name": "python",
   "nbconvert_exporter": "python",
   "pygments_lexer": "ipython3",
   "version": "3.10.6"
  },
  "orig_nbformat": 4,
  "vscode": {
   "interpreter": {
    "hash": "e276a94ab97a9efae7bdcfa9e1dc61b2f6097e65aabcec1a6ce84efca64eb96b"
   }
  }
 },
 "nbformat": 4,
 "nbformat_minor": 2
}
